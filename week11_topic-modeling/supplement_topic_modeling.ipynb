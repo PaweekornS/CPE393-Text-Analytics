{
 "cells": [
  {
   "cell_type": "markdown",
   "metadata": {
    "id": "61511iA_Z7qF"
   },
   "source": [
    "# Supplementary: Topic Modeling\n",
    "\n",
    "Objectives:\n",
    "- To demonstrate students how to apply topic modeling to real-world data.\n",
    "- Students will gain hands-on experience through this example."
   ]
  },
  {
   "cell_type": "markdown",
   "metadata": {
    "id": "lzmdqZWvabcV"
   },
   "source": [
    "Create a data directory and store the downloaded data (state-of-the-union.csv) in it. The data is about State of the Union addresses from 1970 to 2012."
   ]
  },
  {
   "cell_type": "code",
   "execution_count": 1,
   "metadata": {
    "id": "whxqmA2xYI5Y"
   },
   "outputs": [
    {
     "data": {
      "text/plain": [
       "'state-of-the-union.csv'"
      ]
     },
     "execution_count": 1,
     "metadata": {},
     "output_type": "execute_result"
    }
   ],
   "source": [
    "import os\n",
    "import wget\n",
    "\n",
    "os.system('mkdir data')\n",
    "os.chdir('data')\n",
    "wget.download('https://nyc3.digitaloceanspaces.com/ml-files-distro/v1/text-analysis/data/state-of-the-union.csv')"
   ]
  },
  {
   "cell_type": "markdown",
   "metadata": {
    "id": "88lLAU8cbWkP"
   },
   "source": [
    "Read data"
   ]
  },
  {
   "cell_type": "code",
   "execution_count": 2,
   "metadata": {
    "id": "Lr8Nmy11VrlJ"
   },
   "outputs": [
    {
     "data": {
      "text/html": [
       "<div>\n",
       "<style scoped>\n",
       "    .dataframe tbody tr th:only-of-type {\n",
       "        vertical-align: middle;\n",
       "    }\n",
       "\n",
       "    .dataframe tbody tr th {\n",
       "        vertical-align: top;\n",
       "    }\n",
       "\n",
       "    .dataframe thead th {\n",
       "        text-align: right;\n",
       "    }\n",
       "</style>\n",
       "<table border=\"1\" class=\"dataframe\">\n",
       "  <thead>\n",
       "    <tr style=\"text-align: right;\">\n",
       "      <th></th>\n",
       "      <th>year</th>\n",
       "      <th>content</th>\n",
       "    </tr>\n",
       "  </thead>\n",
       "  <tbody>\n",
       "    <tr>\n",
       "      <th>0</th>\n",
       "      <td>1790</td>\n",
       "      <td>George Washington\\nJanuary 8, 1790\\n\\nFellow-C...</td>\n",
       "    </tr>\n",
       "    <tr>\n",
       "      <th>1</th>\n",
       "      <td>1790</td>\n",
       "      <td>\\nState of the Union Address\\nGeorge Washingto...</td>\n",
       "    </tr>\n",
       "    <tr>\n",
       "      <th>2</th>\n",
       "      <td>1791</td>\n",
       "      <td>\\nState of the Union Address\\nGeorge Washingto...</td>\n",
       "    </tr>\n",
       "    <tr>\n",
       "      <th>3</th>\n",
       "      <td>1792</td>\n",
       "      <td>\\nState of the Union Address\\nGeorge Washingto...</td>\n",
       "    </tr>\n",
       "    <tr>\n",
       "      <th>4</th>\n",
       "      <td>1793</td>\n",
       "      <td>\\nState of the Union Address\\nGeorge Washingto...</td>\n",
       "    </tr>\n",
       "  </tbody>\n",
       "</table>\n",
       "</div>"
      ],
      "text/plain": [
       "   year                                            content\n",
       "0  1790  George Washington\\nJanuary 8, 1790\\n\\nFellow-C...\n",
       "1  1790  \\nState of the Union Address\\nGeorge Washingto...\n",
       "2  1791  \\nState of the Union Address\\nGeorge Washingto...\n",
       "3  1792  \\nState of the Union Address\\nGeorge Washingto...\n",
       "4  1793  \\nState of the Union Address\\nGeorge Washingto..."
      ]
     },
     "execution_count": 2,
     "metadata": {},
     "output_type": "execute_result"
    }
   ],
   "source": [
    "import pandas as pd\n",
    "\n",
    "df = pd.read_csv(\"state-of-the-union.csv\")\n",
    "\n",
    "# Clean it up a little bit, removing non-word characters (numbers and ___ etc)\n",
    "df.content = df.content.str.replace(\"[^A-Za-z ]\", \" \")\n",
    "\n",
    "df.head()"
   ]
  },
  {
   "cell_type": "code",
   "execution_count": 3,
   "metadata": {
    "id": "IAI13JHThlXu"
   },
   "outputs": [
    {
     "data": {
      "text/plain": [
       "(226, 2)"
      ]
     },
     "execution_count": 3,
     "metadata": {},
     "output_type": "execute_result"
    }
   ],
   "source": [
    "df.shape"
   ]
  },
  {
   "cell_type": "markdown",
   "metadata": {
    "id": "WKK2yiTsbkNU"
   },
   "source": [
    "Using Gensim to perform topic modeling"
   ]
  },
  {
   "cell_type": "code",
   "execution_count": 4,
   "metadata": {
    "id": "s_ll7Zxmbo2U"
   },
   "outputs": [],
   "source": [
    "# Run this cell if gensim has not been installed yet.\n",
    "# !pip install gensim"
   ]
  },
  {
   "cell_type": "markdown",
   "metadata": {
    "id": "DFqxCYgocTeN"
   },
   "source": [
    "Apply `simple_process` to convert a document into a list of tokens. The input will be lowercased, tokenized, and de-accented (optional).\n",
    "\n"
   ]
  },
  {
   "cell_type": "code",
   "execution_count": 6,
   "metadata": {
    "id": "otPkQaWsYaER"
   },
   "outputs": [
    {
     "data": {
      "text/plain": [
       "0      [george, washington, january, fellow, citizens...\n",
       "1      [state, of, the, union, address, george, washi...\n",
       "2      [state, of, the, union, address, george, washi...\n",
       "3      [state, of, the, union, address, george, washi...\n",
       "4      [state, of, the, union, address, george, washi...\n",
       "                             ...                        \n",
       "221    [state, of, the, union, address, george, bush,...\n",
       "222    [address, to, joint, session, of, congress, ba...\n",
       "223    [state, of, the, union, address, barack, obama...\n",
       "224    [state, of, the, union, address, barack, obama...\n",
       "225    [state, of, the, union, address, barack, obama...\n",
       "Name: content, Length: 226, dtype: object"
      ]
     },
     "execution_count": 6,
     "metadata": {},
     "output_type": "execute_result"
    }
   ],
   "source": [
    "from gensim.utils import simple_preprocess\n",
    "\n",
    "texts = df.content.apply(simple_preprocess)\n",
    "texts"
   ]
  },
  {
   "cell_type": "markdown",
   "metadata": {
    "id": "xrw_gvhPc3ky"
   },
   "source": [
    "Create a dictionary, using the texts that have already been preprocessed.\n",
    "\n",
    "The method `doc2bow` is for converting document (a list of words) into the bag-of-words format."
   ]
  },
  {
   "cell_type": "code",
   "execution_count": null,
   "metadata": {
    "id": "YVMFDiihYcRY"
   },
   "outputs": [],
   "source": [
    "from gensim import corpora\n",
    "\n",
    "dictionary = corpora.Dictionary(texts)\n",
    "dictionary.filter_extremes(no_below=5, no_above=0.5, keep_n=2000)\n",
    "corpus = [dictionary.doc2bow(text) for text in texts]"
   ]
  },
  {
   "cell_type": "markdown",
   "metadata": {
    "id": "d9V2EXRBd_w9"
   },
   "source": [
    "Specify number of topics manually. Let's try 2 topics first."
   ]
  },
  {
   "cell_type": "code",
   "execution_count": null,
   "metadata": {
    "id": "kSspUf8UYfJN"
   },
   "outputs": [],
   "source": [
    "from gensim import models\n",
    "\n",
    "n_topics = 2\n",
    "\n",
    "lda_model = models.LdaModel(corpus=corpus, num_topics=n_topics)\n",
    "lda_model.print_topics()"
   ]
  },
  {
   "cell_type": "markdown",
   "metadata": {
    "id": "Peas6diMe3ij"
   },
   "source": [
    "Let's try 5 topics."
   ]
  },
  {
   "cell_type": "code",
   "execution_count": null,
   "metadata": {
    "id": "v4gi3xMpYie3"
   },
   "outputs": [],
   "source": [
    "n_topics = 5\n",
    "\n",
    "lda_model = models.LdaModel(corpus=corpus, num_topics=n_topics)\n",
    "lda_model.print_topics()"
   ]
  },
  {
   "cell_type": "markdown",
   "metadata": {
    "id": "YbN6Tkd8e9yb"
   },
   "source": [
    "Let's try 15 topics."
   ]
  },
  {
   "cell_type": "code",
   "execution_count": null,
   "metadata": {
    "id": "G-FSZFNDfAAn"
   },
   "outputs": [],
   "source": [
    "n_topics = 15\n",
    "\n",
    "lda_model = models.LdaModel(corpus=corpus, num_topics=n_topics)\n",
    "lda_model.print_topics()"
   ]
  },
  {
   "cell_type": "code",
   "execution_count": null,
   "metadata": {
    "id": "MfMU_WTvZbPE"
   },
   "outputs": [],
   "source": [
    "# Run this cell if pyLDAvis has never been installed\n",
    "# !pip install pyLDAvis"
   ]
  },
  {
   "cell_type": "code",
   "execution_count": null,
   "metadata": {
    "id": "YfsuqmUFZZyL"
   },
   "outputs": [],
   "source": [
    "import pyLDAvis\n",
    "import pyLDAvis.gensim\n",
    "\n",
    "pyLDAvis.enable_notebook()\n",
    "vis = pyLDAvis.gensim.prepare(lda_model, corpus, dictionary)\n",
    "vis"
   ]
  }
 ],
 "metadata": {
  "colab": {
   "provenance": []
  },
  "kernelspec": {
   "display_name": "Python 3",
   "name": "python3"
  },
  "language_info": {
   "codemirror_mode": {
    "name": "ipython",
    "version": 3
   },
   "file_extension": ".py",
   "mimetype": "text/x-python",
   "name": "python",
   "nbconvert_exporter": "python",
   "pygments_lexer": "ipython3",
   "version": "3.12.1"
  }
 },
 "nbformat": 4,
 "nbformat_minor": 0
}
