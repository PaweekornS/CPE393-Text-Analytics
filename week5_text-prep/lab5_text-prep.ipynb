{
 "cells": [
  {
   "cell_type": "markdown",
   "metadata": {},
   "source": [
    "Paweekorn Soratyathorn<br>\n",
    "65070501037"
   ]
  },
  {
   "cell_type": "code",
   "execution_count": 1,
   "metadata": {},
   "outputs": [],
   "source": [
    "from bs4 import BeautifulSoup\n",
    "import requests\n",
    "\n",
    "import re\n",
    "import nltk\n",
    "from nltk.corpus import stopwords\n",
    "from nltk.tokenize import word_tokenize\n",
    "from nltk import WordNetLemmatizer"
   ]
  },
  {
   "cell_type": "code",
   "execution_count": 18,
   "metadata": {},
   "outputs": [],
   "source": [
    "url = 'https://stackoverflow.com/questions/38488442/razor-framework-backend-or-frontend'\n",
    "page = requests.get(url)\n",
    "soup = BeautifulSoup(page.text, 'html')"
   ]
  },
  {
   "cell_type": "markdown",
   "metadata": {},
   "source": [
    "## Question Part"
   ]
  },
  {
   "cell_type": "code",
   "execution_count": 3,
   "metadata": {},
   "outputs": [
    {
     "name": "stdout",
     "output_type": "stream",
     "text": [
      "What kind of framework is Razor? Is it backend or frontend?\n",
      "What is the difference between the two types of frameworks?\n",
      "I'm trying to learn a little bit more about backend and frontend frameworks and since I usually work with Visual Studio Asp.net MVC was wondering about it.\n"
     ]
    }
   ],
   "source": [
    "div_tags = soup.find_all('div', class_='s-prose js-post-body', attrs={'itemprop': 'text'})\n",
    "question = div_tags[0].text.strip('\\n')\n",
    "print(question)"
   ]
  },
  {
   "cell_type": "markdown",
   "metadata": {},
   "source": [
    "<b>Text Cleansing</b><br>\n",
    "1. Remove Punctuation"
   ]
  },
  {
   "cell_type": "code",
   "execution_count": 4,
   "metadata": {},
   "outputs": [
    {
     "data": {
      "text/plain": [
       "'What kind of framework is Razor Is it backend or frontend What is the difference between the two types of frameworks Im trying to learn a little bit more about backend and frontend frameworks and since I usually work with Visual Studio Aspnet MVC was wondering about it'"
      ]
     },
     "execution_count": 4,
     "metadata": {},
     "output_type": "execute_result"
    }
   ],
   "source": [
    "def clean_punctuation(text):\n",
    "    punctuation_pattern = re.compile(r'[^\\w\\s]|_')\n",
    "    cleaned_text = re.sub(punctuation_pattern, '', text)\n",
    "\n",
    "    return cleaned_text\n",
    "\n",
    "question = clean_punctuation(question)\n",
    "question = question.replace('\\n', ' ')\n",
    "question"
   ]
  },
  {
   "cell_type": "markdown",
   "metadata": {},
   "source": [
    "2. Stopwords removal"
   ]
  },
  {
   "cell_type": "code",
   "execution_count": 5,
   "metadata": {},
   "outputs": [
    {
     "name": "stdout",
     "output_type": "stream",
     "text": [
      "kind framework Razor backend frontend difference two types frameworks Im trying learn little bit backend frontend frameworks since usually work Visual Studio Aspnet MVC wondering\n"
     ]
    }
   ],
   "source": [
    "stop_words = stopwords.words('english')\n",
    "question = re.sub('\\n', '', question)\n",
    "words = question.split(' ')\n",
    "\n",
    "words = [word for word in words if word.lower() not in stop_words]\n",
    "question = ' '.join(words)\n",
    "print(question)"
   ]
  },
  {
   "cell_type": "code",
   "execution_count": 6,
   "metadata": {},
   "outputs": [
    {
     "data": {
      "text/plain": [
       "'kind framework Razor backend frontend difference two types frameworks trying learn little bit backend frontend frameworks since usually work Visual Studio Aspnet MVC wondering'"
      ]
     },
     "execution_count": 6,
     "metadata": {},
     "output_type": "execute_result"
    }
   ],
   "source": [
    "question = question.replace('Im', '')\n",
    "question = ' '.join([word for word in question.split(' ') if word != ''])\n",
    "question"
   ]
  },
  {
   "cell_type": "markdown",
   "metadata": {},
   "source": [
    "<b>Preprocessing</b><br>\n",
    "1. Lemmatization"
   ]
  },
  {
   "cell_type": "code",
   "execution_count": 7,
   "metadata": {},
   "outputs": [
    {
     "name": "stdout",
     "output_type": "stream",
     "text": [
      "kind framework Razor backend frontend difference two type frameworks try learn little bite backend frontend frameworks since usually work Visual Studio Aspnet MVC wonder\n"
     ]
    }
   ],
   "source": [
    "lemmatizer = WordNetLemmatizer()\n",
    "words = question.split(' ')\n",
    "cleaned_text = ' '.join([lemmatizer.lemmatize(word, pos='n') for word in words])\n",
    "cleaned_text = ' '.join([lemmatizer.lemmatize(word, pos='v') for word in words])\n",
    "print(cleaned_text)"
   ]
  },
  {
   "cell_type": "markdown",
   "metadata": {},
   "source": [
    "2. Data Masking"
   ]
  },
  {
   "cell_type": "code",
   "execution_count": 8,
   "metadata": {},
   "outputs": [],
   "source": [
    "def mask_framework(text):\n",
    "    prog_pattern = re.compile(r'Razor|MVC')\n",
    "    masked_text = re.sub(prog_pattern, '[FRAMEWORK]', text)\n",
    "    \n",
    "    return masked_text\n",
    "\n",
    "def mask_microsoft(text):\n",
    "    prog_pattern = re.compile(r'Visual Studio Aspnet')\n",
    "    masked_text = re.sub(prog_pattern, '[MICROSOFT IDE]', text)\n",
    "    \n",
    "    return masked_text"
   ]
  },
  {
   "cell_type": "code",
   "execution_count": 9,
   "metadata": {},
   "outputs": [
    {
     "data": {
      "text/plain": [
       "'kind framework [FRAMEWORK] backend frontend difference two type frameworks try learn little bite backend frontend frameworks since usually work [MICROSOFT IDE] [FRAMEWORK] wonder'"
      ]
     },
     "execution_count": 9,
     "metadata": {},
     "output_type": "execute_result"
    }
   ],
   "source": [
    "cleaned_question = mask_framework(cleaned_text)\n",
    "cleaned_question = mask_microsoft(cleaned_question)\n",
    "cleaned_question"
   ]
  },
  {
   "cell_type": "markdown",
   "metadata": {},
   "source": [
    "## Answer Part"
   ]
  },
  {
   "cell_type": "code",
   "execution_count": 10,
   "metadata": {},
   "outputs": [
    {
     "data": {
      "text/plain": [
       "[[<p>It is not a framework . I think you're misinterpreting certain concepts. Razor is a server side view engine, and it uses C # or VB.NET to generate dynamic content.</p>,\n",
       "  <p><a href=\"http://haacked.com/archive/2011/01/06/razor-syntax-quick-reference.aspx/\" rel=\"noreferrer\">Razor Syntax Quick Reference</a></p>],\n",
       " [<p>This question is a couple of years old, but I'm going to add my two cents.</p>,\n",
       "  <p>People struggle to give an answer to this question because the terms 'front-end' and 'back-end' aren't formally defined anywhere. Because of that, any answer is purely subjective.</p>,\n",
       "  <p>That being said, it is my <em>opinion</em> that the relationship between front-end/back-end and client-side/server-side isn't necessarily one-to-one</p>,\n",
       "  <p>I think it helps to think of it like this: <strong>client-side and server-side are run-times</strong>, while <strong>front-end and back-end are a separation of concerns</strong>.</p>,\n",
       "  <p>'Client-side' always refers to code executing on the client's machine and 'server-side' always refers to code executing on the server. A 'front-end' developer deals with displaying data to the user and getting data from the user, while a back-end developer deals with storing, manipulating, and retrieving that data.</p>,\n",
       "  <p>Consider a front-end developer who is tasked with building a UI. Much of the code they write will be the typical HTML / CSS / JS. However, they will also have to deal with the data that is passed to the front-end from the backend. This is where Razor comes into play. The front-end developer will write the Razor code (which executes on the server-side) to display the data. </p>,\n",
       "  <p>That is, <strong>the front-end developer will write server-side code to help generate the UI, in addition to writing the client-side code that really defines the UI</strong>.</p>,\n",
       "  <p>Now, I can't imagine a scenario where a back-end developer will write client-side code.</p>,\n",
       "  <p>So, to answer your question, <strong>Razor is a front-end technology that executes on the server-side runtime</strong>. It's only purpose is to generate the UI, which is the concern of the front-end.</p>],\n",
       " [<p>Razor is for writing dynamic html page which is front end and c# is for writing backend logic. Although you could move all the backend logic inside razor but its highly not recommended. </p>],\n",
       " [<p>Razor allows you on the <strong>back-end</strong> more easily create views (.cshtml in C#).\n",
       "  It is more like templating system...</p>,\n",
       "  <p><a href=\"http://www.asp.net/web-pages/overview/getting-started/introducing-razor-syntax-c\" rel=\"nofollow\">http://www.asp.net/web-pages/overview/getting-started/introducing-razor-syntax-c</a></p>]]"
      ]
     },
     "execution_count": 10,
     "metadata": {},
     "output_type": "execute_result"
    }
   ],
   "source": [
    "ans_zone = soup.find_all('div', class_='answercell post-layout--right')\n",
    "answers = [elem.find_all('p') for elem in ans_zone]\n",
    "answers"
   ]
  },
  {
   "cell_type": "markdown",
   "metadata": {},
   "source": [
    "<b>Text Cleansing</b><br>\n",
    "1. Remove HTML Tags"
   ]
  },
  {
   "cell_type": "code",
   "execution_count": 11,
   "metadata": {},
   "outputs": [],
   "source": [
    "def clean_html_tags(text):\n",
    "    clean_text = text.get_text(separator=' ')\n",
    "    clean_text = re.sub(r'\\s+' , ' ' , clean_text).strip()\n",
    "    \n",
    "    return clean_text"
   ]
  },
  {
   "cell_type": "code",
   "execution_count": 12,
   "metadata": {},
   "outputs": [
    {
     "name": "stdout",
     "output_type": "stream",
     "text": [
      "It is not a framework . I think you're misinterpreting certain concepts. Razor is a server side view engine, and it uses C # or VB.NET to generate dynamic content. Razor Syntax Quick Reference This question is a couple of years old, but I'm going to add my two cents. People struggle to give an answer to this question because the terms 'front-end' and 'back-end' aren't formally defined anywhere. Because of that, any answer is purely subjective. That being said, it is my opinion that the relationship between front-end/back-end and client-side/server-side isn't necessarily one-to-one I think it helps to think of it like this: client-side and server-side are run-times , while front-end and back-end are a separation of concerns . 'Client-side' always refers to code executing on the client's machine and 'server-side' always refers to code executing on the server. A 'front-end' developer deals with displaying data to the user and getting data from the user, while a back-end developer deals with storing, manipulating, and retrieving that data. Consider a front-end developer who is tasked with building a UI. Much of the code they write will be the typical HTML / CSS / JS. However, they will also have to deal with the data that is passed to the front-end from the backend. This is where Razor comes into play. The front-end developer will write the Razor code (which executes on the server-side) to display the data. That is, the front-end developer will write server-side code to help generate the UI, in addition to writing the client-side code that really defines the UI . Now, I can't imagine a scenario where a back-end developer will write client-side code. So, to answer your question, Razor is a front-end technology that executes on the server-side runtime . It's only purpose is to generate the UI, which is the concern of the front-end. Razor is for writing dynamic html page which is front end and c# is for writing backend logic. Although you could move all the backend logic inside razor but its highly not recommended. Razor allows you on the back-end more easily create views (.cshtml in C#). It is more like templating system... http://www.asp.net/web-pages/overview/getting-started/introducing-razor-syntax-c\n"
     ]
    }
   ],
   "source": [
    "answer = []\n",
    "for list in answers:\n",
    "    text = []\n",
    "    for p in list:\n",
    "        text.append(clean_html_tags(p))\n",
    "    answer.append(' '.join(text))\n",
    "\n",
    "answer = ' '.join(answer)\n",
    "print(answer)"
   ]
  },
  {
   "cell_type": "markdown",
   "metadata": {},
   "source": [
    "2. Stop word Removal"
   ]
  },
  {
   "cell_type": "code",
   "execution_count": 13,
   "metadata": {},
   "outputs": [
    {
     "name": "stdout",
     "output_type": "stream",
     "text": [
      "framework . think misinterpreting certain concepts. Razor server side view engine, uses C # VB.NET generate dynamic content. Razor Syntax Quick Reference question couple years old, I'm going add two cents. People struggle give answer question terms 'front-end' 'back-end' formally defined anywhere. that, answer purely subjective. said, opinion relationship front-end/back-end client-side/server-side necessarily one-to-one think helps think like this: client-side server-side run-times , front-end back-end separation concerns . 'Client-side' always refers code executing client's machine 'server-side' always refers code executing server. 'front-end' developer deals displaying data user getting data user, back-end developer deals storing, manipulating, retrieving data. Consider front-end developer tasked building UI. Much code write typical HTML / CSS / JS. However, also deal data passed front-end backend. Razor comes play. front-end developer write Razor code (which executes server-side) display data. is, front-end developer write server-side code help generate UI, addition writing client-side code really defines UI . Now, can't imagine scenario back-end developer write client-side code. So, answer question, Razor front-end technology executes server-side runtime . purpose generate UI, concern front-end. Razor writing dynamic html page front end c# writing backend logic. Although could move backend logic inside razor highly recommended. Razor allows back-end easily create views (.cshtml C#). like templating system... http://www.asp.net/web-pages/overview/getting-started/introducing-razor-syntax-c\n"
     ]
    }
   ],
   "source": [
    "stop_words = stopwords.words('english')\n",
    "\n",
    "words = answer.split(' ')\n",
    "filtered_word = [word for word in words if word.lower() not in stop_words]\n",
    "answer = ' '.join(filtered_word)\n",
    "print(answer)"
   ]
  },
  {
   "cell_type": "markdown",
   "metadata": {},
   "source": [
    "3. Remove Punctuation"
   ]
  },
  {
   "cell_type": "code",
   "execution_count": 14,
   "metadata": {},
   "outputs": [
    {
     "name": "stdout",
     "output_type": "stream",
     "text": [
      "framework think misinterpreting certain concepts Razor server side view engine uses C # VBNET generate dynamic content Razor Syntax Quick Reference question couple years old Im going add two cents People struggle give answer question terms frontend backend formally defined anywhere that answer purely subjective said opinion relationship frontendbackend clientsideserverside necessarily onetoone think helps think like this clientside serverside runtimes frontend backend separation concerns Clientside always refers code executing clients machine serverside always refers code executing server frontend developer deals displaying data user getting data user backend developer deals storing manipulating retrieving data Consider frontend developer tasked building UI Much code write typical HTML CSS JS However also deal data passed frontend backend Razor comes play frontend developer write Razor code which executes serverside display data is frontend developer write serverside code help generate UI addition writing clientside code really defines UI Now cant imagine scenario backend developer write clientside code So answer question Razor frontend technology executes serverside runtime purpose generate UI concern frontend Razor writing dynamic html page front end c# writing backend logic Although could move backend logic inside razor highly recommended Razor allows backend easily create views cshtml C# like templating system httpwwwaspnetwebpagesoverviewgettingstartedintroducingrazorsyntaxc\n"
     ]
    }
   ],
   "source": [
    "def clean_punctuation(text):\n",
    "    punctuation_pattern = re.compile(r'[^\\w\\s#]|_')\n",
    "    cleaned_text = re.sub(punctuation_pattern, '', text)\n",
    "\n",
    "    return cleaned_text\n",
    "\n",
    "ans_no_punk = clean_punctuation(answer)\n",
    "check = [word for word in ans_no_punk.split(' ') if word != '']\n",
    "ans_no_punk = ' '.join(check)\n",
    "print(ans_no_punk)"
   ]
  },
  {
   "cell_type": "markdown",
   "metadata": {},
   "source": [
    "<b>Preprocessing</b>"
   ]
  },
  {
   "cell_type": "markdown",
   "metadata": {},
   "source": [
    "1. Lemmatization"
   ]
  },
  {
   "cell_type": "code",
   "execution_count": 15,
   "metadata": {},
   "outputs": [
    {
     "name": "stdout",
     "output_type": "stream",
     "text": [
      "framework think misinterpret certain concepts Razor server side view engine use C # VBNET generate dynamic content Razor Syntax Quick Reference question couple years old Im go add two cents People struggle give answer question term frontend backend formally define anywhere that answer purely subjective say opinion relationship frontendbackend clientsideserverside necessarily onetoone think help think like this clientside serverside runtimes frontend backend separation concern Clientside always refer code execute clients machine serverside always refer code execute server frontend developer deal display data user get data user backend developer deal store manipulate retrieve data Consider frontend developer task build UI Much code write typical HTML CSS JS However also deal data pass frontend backend Razor come play frontend developer write Razor code which execute serverside display data be frontend developer write serverside code help generate UI addition write clientside code really define UI Now cant imagine scenario backend developer write clientside code So answer question Razor frontend technology execute serverside runtime purpose generate UI concern frontend Razor write dynamic html page front end c# write backend logic Although could move backend logic inside razor highly recommend Razor allow backend easily create view cshtml C# like templating system httpwwwaspnetwebpagesoverviewgettingstartedintroducingrazorsyntaxc\n"
     ]
    }
   ],
   "source": [
    "lemmatizer = WordNetLemmatizer()\n",
    "words = ans_no_punk.split(' ')\n",
    "cleaned_text = ' '.join([lemmatizer.lemmatize(word, pos='n') for word in words])\n",
    "cleaned_text = ' '.join([lemmatizer.lemmatize(word, pos='v') for word in words])\n",
    "print(cleaned_text)"
   ]
  },
  {
   "cell_type": "markdown",
   "metadata": {},
   "source": [
    "2. Data Masking"
   ]
  },
  {
   "cell_type": "code",
   "execution_count": 16,
   "metadata": {},
   "outputs": [],
   "source": [
    "def mask_programming_lang(text):\n",
    "    prog_pattern = re.compile(r'[cC].?#|\\w+\\.?(NET)|(net)|JS')\n",
    "    masked_text = re.sub(prog_pattern, '[PROG_LANG]', text)\n",
    "    \n",
    "    return masked_text\n",
    "    \n",
    "    \n",
    "def mask_website(text):\n",
    "    prog_pattern = re.compile(r'http\\w+')\n",
    "    masked_text = re.sub(prog_pattern, '[WEBSITE]', text)\n",
    "\n",
    "    return masked_text\n",
    "\n",
    "def mask_framework(text):\n",
    "    prog_pattern = re.compile(r'[rR]azor')\n",
    "    masked_text = re.sub(prog_pattern, '[FRAMEWORK]', text)\n",
    "\n",
    "    return masked_text"
   ]
  },
  {
   "cell_type": "code",
   "execution_count": 17,
   "metadata": {},
   "outputs": [
    {
     "name": "stdout",
     "output_type": "stream",
     "text": [
      "framework think misinterpret certain concepts [FRAMEWORK] server side view engine use [PROG_LANG] [PROG_LANG] generate dynamic content [FRAMEWORK] Syntax Quick Reference question couple years old Im go add two cents People struggle give answer question term frontend backend formally define anywhere that answer purely subjective say opinion relationship frontendbackend clientsideserverside necessarily o[PROG_LANG]oone think help think like this clientside serverside runtimes frontend backend separation concern Clientside always refer code execute clients machine serverside always refer code execute server frontend developer deal display data user get data user backend developer deal store manipulate retrieve data Consider frontend developer task build UI Much code write typical HTML CSS [PROG_LANG] However also deal data pass frontend backend [FRAMEWORK] come play frontend developer write [FRAMEWORK] code which execute serverside display data be frontend developer write serverside code help generate UI addition write clientside code really define UI Now cant imagine scenario backend developer write clientside code So answer question [FRAMEWORK] frontend technology execute serverside runtime purpose generate UI concern frontend [FRAMEWORK] write dynamic html page front end [PROG_LANG] write backend logic Although could move backend logic inside [FRAMEWORK] highly recommend [FRAMEWORK] allow backend easily create view cshtml [PROG_LANG] like templating system [WEBSITE]\n"
     ]
    }
   ],
   "source": [
    "cleaned_answer = mask_website(cleaned_text)\n",
    "cleaned_answer = mask_programming_lang(cleaned_answer)\n",
    "cleaned_answer = mask_framework(cleaned_answer)\n",
    "print(cleaned_answer)"
   ]
  },
  {
   "cell_type": "code",
   "execution_count": null,
   "metadata": {},
   "outputs": [],
   "source": []
  }
 ],
 "metadata": {
  "kernelspec": {
   "display_name": "Python 3",
   "language": "python",
   "name": "python3"
  },
  "language_info": {
   "codemirror_mode": {
    "name": "ipython",
    "version": 3
   },
   "file_extension": ".py",
   "mimetype": "text/x-python",
   "name": "python",
   "nbconvert_exporter": "python",
   "pygments_lexer": "ipython3",
   "version": "3.12.1"
  }
 },
 "nbformat": 4,
 "nbformat_minor": 2
}
