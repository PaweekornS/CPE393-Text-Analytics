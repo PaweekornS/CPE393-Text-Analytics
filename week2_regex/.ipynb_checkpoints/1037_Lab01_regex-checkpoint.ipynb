{
 "cells": [
  {
   "cell_type": "markdown",
   "id": "2109b9db",
   "metadata": {},
   "source": [
    "Paweekorn Soratyathorn<br>\n",
    "65070501037"
   ]
  },
  {
   "cell_type": "code",
   "execution_count": 2,
   "id": "199aef3b",
   "metadata": {},
   "outputs": [],
   "source": [
    "import re"
   ]
  },
  {
   "cell_type": "code",
   "execution_count": 2,
   "id": "4a950ea4",
   "metadata": {},
   "outputs": [],
   "source": [
    "def pattern_matching(regex='.', string=''):\n",
    "    pattern = re.compile(regex)\n",
    "    matches = pattern.finditer(string)\n",
    "    \n",
    "    for match in matches:\n",
    "        print(match)"
   ]
  },
  {
   "cell_type": "markdown",
   "id": "303bb2b0",
   "metadata": {},
   "source": [
    "### 1. Stock Indices\n",
    "ref: https://en.wikipedia.org/wiki/List_of_stock_market_indices"
   ]
  },
  {
   "cell_type": "code",
   "execution_count": 3,
   "id": "cc0ee614",
   "metadata": {},
   "outputs": [],
   "source": [
    "stock_index = '''\n",
    "S&P Asia 50\n",
    "S&P/ASX 20\n",
    "S&P Europe 350\n",
    "STOXX Europe 600\n",
    "FTSE Developed Europe Index.\n",
    "BSE DCI\n",
    "EGX 70 Index\n",
    "SSE Composite Index\n",
    "CSC X\n",
    "CASPI\n",
    "KSE-30 Index\n",
    "MVIS® Australia Small-Cap Dividend Payers Index\n",
    "'''"
   ]
  },
  {
   "cell_type": "code",
   "execution_count": 4,
   "id": "3431f62b",
   "metadata": {},
   "outputs": [
    {
     "name": "stdout",
     "output_type": "stream",
     "text": [
      "<re.Match object; span=(1, 12), match='S&P Asia 50'>\n",
      "<re.Match object; span=(13, 23), match='S&P/ASX 20'>\n",
      "<re.Match object; span=(24, 38), match='S&P Europe 350'>\n",
      "<re.Match object; span=(39, 55), match='STOXX Europe 600'>\n",
      "<re.Match object; span=(56, 83), match='FTSE Developed Europe Index'>\n",
      "<re.Match object; span=(85, 92), match='BSE DCI'>\n",
      "<re.Match object; span=(93, 105), match='EGX 70 Index'>\n",
      "<re.Match object; span=(106, 125), match='SSE Composite Index'>\n",
      "<re.Match object; span=(126, 131), match='CSC X'>\n",
      "<re.Match object; span=(132, 137), match='CASPI'>\n",
      "<re.Match object; span=(138, 150), match='KSE-30 Index'>\n",
      "<re.Match object; span=(151, 155), match='MVIS'>\n",
      "<re.Match object; span=(157, 185), match='Australia Small-Cap Dividend'>\n",
      "<re.Match object; span=(186, 198), match='Payers Index'>\n"
     ]
    }
   ],
   "source": [
    "regex = r'(\\w+.\\w+|\\w+).(\\w+)(.\\w+)?'\n",
    "pattern_matching(regex, stock_index)"
   ]
  },
  {
   "cell_type": "markdown",
   "id": "2f2b362a",
   "metadata": {},
   "source": [
    "a. Why you want to discover those patterns?<br>\n",
    "<u>Ans.</u> I am interested in stock price right now because I want to try stock trade later as soon as I have enough money and knowledge for it.\n",
    "\n",
    "b. Why are they interesting to you?<br>\n",
    "<u>Ans.</u> The stock price of each one will increase or decrease relates with the market at that moment. I want to know how the market works or how people know when to trade or sell their stock to make profit from it so, the true reason why I'm interested in this topics is learning how market works through stock price.\n",
    "\n",
    "c. Does this RegEx works as you expected?<br>\n",
    "<u>Ans.</u> Yes, but I don't think the pattern would be this plain. T_T"
   ]
  },
  {
   "cell_type": "markdown",
   "id": "eed88d1d",
   "metadata": {},
   "source": [
    "### 2. Product's Model\n",
    "- In this topic, I'll use *ExxonMobil* lubricant product's name as an example.\n",
    "\n",
    "ref: https://www.mobil.co.th/th-th/our-products#t=https%3A%2F%2Fwww.mobil.co.th%2Fth-th%2Four-products&sort=relevancy"
   ]
  },
  {
   "cell_type": "code",
   "execution_count": 5,
   "id": "ffd9ff1a",
   "metadata": {},
   "outputs": [],
   "source": [
    "brand = '''\n",
    "Mobil Delvac Modern™ 15W-40 Full Protection\n",
    "Mobil Delvac Modern™ 15W-40 Super Defense\n",
    "Mobil Delvac Legend™ CH-4 15W-40 Heavy Duty\n",
    "Mobil Delvac Legend™ 1330\n",
    "\n",
    "Mobil 1™ Triple Action Power+\n",
    "Mobil 1™ Turbo Diesel 5W-40\n",
    "Mobil 1™ ESP 0W-30\n",
    "Mobil 1™ Racing 4T 10W-40\n",
    "\n",
    "Mobil Super™ All-In-One Protection\n",
    "Mobil Super™ All-In-One Protection Turbospeed\n",
    "Mobil Super™ Friction Fighter\n",
    "Mobil Super™ Friction Fighter Turbospeed\n",
    "Mobil Super™ Everyday Protection Turbospeed\n",
    "\n",
    "Mobil Super Moto™ 20W-50\n",
    "Mobil Super Moto™ Scooter 10W-40\n",
    "Mobil Super Moto™ Scooter Gear Oil\n",
    "'''"
   ]
  },
  {
   "cell_type": "code",
   "execution_count": 6,
   "id": "9213a290",
   "metadata": {},
   "outputs": [
    {
     "name": "stdout",
     "output_type": "stream",
     "text": [
      "<re.Match object; span=(1, 44), match='Mobil Delvac Modern™ 15W-40 Full Protection'>\n",
      "<re.Match object; span=(45, 86), match='Mobil Delvac Modern™ 15W-40 Super Defense'>\n",
      "<re.Match object; span=(87, 119), match='Mobil Delvac Legend™ CH-4 15W-40'>\n",
      "<re.Match object; span=(131, 156), match='Mobil Delvac Legend™ 1330'>\n",
      "<re.Match object; span=(158, 186), match='Mobil 1™ Triple Action Power'>\n",
      "<re.Match object; span=(188, 215), match='Mobil 1™ Turbo Diesel 5W-40'>\n",
      "<re.Match object; span=(216, 234), match='Mobil 1™ ESP 0W-30'>\n",
      "<re.Match object; span=(235, 260), match='Mobil 1™ Racing 4T 10W-40'>\n",
      "<re.Match object; span=(262, 296), match='Mobil Super™ All-In-One Protection'>\n",
      "<re.Match object; span=(297, 342), match='Mobil Super™ All-In-One Protection Turbospeed'>\n",
      "<re.Match object; span=(343, 372), match='Mobil Super™ Friction Fighter'>\n",
      "<re.Match object; span=(373, 413), match='Mobil Super™ Friction Fighter Turbospeed'>\n",
      "<re.Match object; span=(414, 457), match='Mobil Super™ Everyday Protection Turbospeed'>\n",
      "<re.Match object; span=(459, 483), match='Mobil Super Moto™ 20W-50'>\n",
      "<re.Match object; span=(484, 516), match='Mobil Super Moto™ Scooter 10W-40'>\n",
      "<re.Match object; span=(517, 551), match='Mobil Super Moto™ Scooter Gear Oil'>\n"
     ]
    }
   ],
   "source": [
    "regex = r'Mobil.((1|Super|Delvac).?).([a-zA-Z]+.?).((\\w+)-?(\\w+)).((\\w+.)?\\w+)?'\n",
    "pattern_matching(regex, brand)"
   ]
  },
  {
   "cell_type": "markdown",
   "id": "c9eea74f",
   "metadata": {},
   "source": [
    "a. Why you want to discover those patterns?<br>\n",
    "<u>Ans.</u> I think this findings will be helpful when doing an sentiment analysis in term of collecting the users' opinion from websites such as pantip, facebook, instagram, e.g.\n",
    "\n",
    "b. Why are they interesting to you? <br>\n",
    "<u>Ans.</u> For the regex part, it is quite hard for me when I have to due with the superscript so, I think it is challenging to do this one. In context part, I think it will be interesting if we can find the product which is limited or less manufacture to people and go deeper like why it is limited. \n",
    "\n",
    "c. Does this RegEx works as you expected?<br>\n",
    "<u>Ans.</u> Yes, sure!\n",
    "\n",
    "Note: This example included only passenger vechicle. If you want to detect all product model the second group of regex should be \\w+ for flexible with all product model name."
   ]
  },
  {
   "cell_type": "markdown",
   "id": "adc56cb9",
   "metadata": {},
   "source": [
    "### 3. Transaction ID\n",
    "- I'll use my 7-11 online transaction to be example for this topics"
   ]
  },
  {
   "cell_type": "code",
   "execution_count": 7,
   "id": "21872b22",
   "metadata": {},
   "outputs": [],
   "source": [
    "transID = '''\n",
    "TID#2024082000000002790365064\n",
    "TID#2024081900000002787577518\n",
    "TID#2024081500000002776969741\n",
    "TID#2024080500000002749615183\n",
    "TID#2024080300000002744049940\n",
    "TID#2024072400000002718083563\n",
    "\n",
    "TID#08031240728857327204727\n",
    "TID#08031240815421010192537\n",
    "TID#08031240807568636204714\n",
    "'''"
   ]
  },
  {
   "cell_type": "code",
   "execution_count": 8,
   "id": "dd806a7f",
   "metadata": {},
   "outputs": [
    {
     "name": "stdout",
     "output_type": "stream",
     "text": [
      "<re.Match object; span=(1, 30), match='TID#2024082000000002790365064'>\n",
      "<re.Match object; span=(31, 60), match='TID#2024081900000002787577518'>\n",
      "<re.Match object; span=(61, 90), match='TID#2024081500000002776969741'>\n",
      "<re.Match object; span=(91, 120), match='TID#2024080500000002749615183'>\n",
      "<re.Match object; span=(121, 150), match='TID#2024080300000002744049940'>\n",
      "<re.Match object; span=(151, 180), match='TID#2024072400000002718083563'>\n",
      "<re.Match object; span=(182, 209), match='TID#08031240728857327204727'>\n",
      "<re.Match object; span=(210, 237), match='TID#08031240815421010192537'>\n",
      "<re.Match object; span=(238, 265), match='TID#08031240807568636204714'>\n"
     ]
    }
   ],
   "source": [
    "regex = r'TID#((2024\\d{4})(0{7})27\\d{8}|(08031240)\\d{15})'\n",
    "pattern_matching(regex, transID)"
   ]
  },
  {
   "cell_type": "markdown",
   "id": "e6141d2a",
   "metadata": {},
   "source": [
    "a. Why you want to discover those patterns?<br>\n",
    "<u>Ans.</u> I found that this transaction numbers help in Fraud detection by linking the suspicious transaction together so, I have a thought that finding a pattern from these unique numbers can be useful.\n",
    "\n",
    "b. Why are they interesting to you?<br>\n",
    "<u>Ans.</u> I am curious what's the benefit of serial number so, I search for it on google and I found that it is used for tracking and identifying the parcel. I didn't found the complex pattern from the serial number so, I continued on searching for ID which can used for tracking as well and I found this topic!\n",
    "\n",
    "c. Does this RegEx works as you expected?<br>\n",
    "<u>Ans.</u> Exactly\n",
    "\n",
    "Note: I found some insight from my examples. Transaction that amount is more than 100 baht will start with 0803124. Other than this case, the set of number will start with present data in format YYYYMMDD."
   ]
  },
  {
   "cell_type": "code",
   "execution_count": null,
   "id": "020292c2",
   "metadata": {},
   "outputs": [],
   "source": []
  }
 ],
 "metadata": {
  "kernelspec": {
   "display_name": "Python 3 (ipykernel)",
   "language": "python",
   "name": "python3"
  },
  "language_info": {
   "codemirror_mode": {
    "name": "ipython",
    "version": 3
   },
   "file_extension": ".py",
   "mimetype": "text/x-python",
   "name": "python",
   "nbconvert_exporter": "python",
   "pygments_lexer": "ipython3",
   "version": "3.11.5"
  }
 },
 "nbformat": 4,
 "nbformat_minor": 5
}
