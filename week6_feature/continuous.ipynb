{
 "cells": [
  {
   "cell_type": "code",
   "execution_count": 73,
   "metadata": {
    "colab": {
     "base_uri": "https://localhost:8080/"
    },
    "id": "60Z__j3RUz2O",
    "outputId": "f72ecc0a-56b6-4c9b-bd76-d001f5806416"
   },
   "outputs": [],
   "source": [
    "# from google.colab import drive\n",
    "# drive.mount('/content/drive')"
   ]
  },
  {
   "cell_type": "markdown",
   "metadata": {},
   "source": [
    "65070501037<br>\n",
    "Paweekorn Soratyathorn"
   ]
  },
  {
   "cell_type": "markdown",
   "metadata": {
    "id": "R7l2DfKGUtZ3"
   },
   "source": [
    "## Load data"
   ]
  },
  {
   "cell_type": "code",
   "execution_count": 1,
   "metadata": {},
   "outputs": [],
   "source": [
    "import pandas as pd\n",
    "import numpy as np\n",
    "import matplotlib.pyplot as plt"
   ]
  },
  {
   "cell_type": "code",
   "execution_count": 74,
   "metadata": {
    "colab": {
     "base_uri": "https://localhost:8080/",
     "height": 434
    },
    "id": "-5LIErNNUtZ7",
    "outputId": "6deee37f-a74a-458d-9e6b-67ea4090aacd",
    "scrolled": true
   },
   "outputs": [
    {
     "data": {
      "text/html": [
       "<div>\n",
       "<style scoped>\n",
       "    .dataframe tbody tr th:only-of-type {\n",
       "        vertical-align: middle;\n",
       "    }\n",
       "\n",
       "    .dataframe tbody tr th {\n",
       "        vertical-align: top;\n",
       "    }\n",
       "\n",
       "    .dataframe thead th {\n",
       "        text-align: right;\n",
       "    }\n",
       "</style>\n",
       "<table border=\"1\" class=\"dataframe\">\n",
       "  <thead>\n",
       "    <tr style=\"text-align: right;\">\n",
       "      <th></th>\n",
       "      <th>Make</th>\n",
       "      <th>Model</th>\n",
       "      <th>Year</th>\n",
       "      <th>Engine Fuel Type</th>\n",
       "      <th>Engine HP</th>\n",
       "      <th>Engine Cylinders</th>\n",
       "      <th>Transmission Type</th>\n",
       "      <th>Driven_Wheels</th>\n",
       "      <th>Number of Doors</th>\n",
       "      <th>Market Category</th>\n",
       "      <th>Vehicle Size</th>\n",
       "      <th>Vehicle Style</th>\n",
       "      <th>highway MPG</th>\n",
       "      <th>city mpg</th>\n",
       "      <th>Popularity</th>\n",
       "      <th>MSRP</th>\n",
       "    </tr>\n",
       "  </thead>\n",
       "  <tbody>\n",
       "    <tr>\n",
       "      <th>0</th>\n",
       "      <td>BMW</td>\n",
       "      <td>1 Series M</td>\n",
       "      <td>2011</td>\n",
       "      <td>premium unleaded (required)</td>\n",
       "      <td>335.0</td>\n",
       "      <td>6.0</td>\n",
       "      <td>MANUAL</td>\n",
       "      <td>rear wheel drive</td>\n",
       "      <td>2.0</td>\n",
       "      <td>Factory Tuner,Luxury,High-Performance</td>\n",
       "      <td>Compact</td>\n",
       "      <td>Coupe</td>\n",
       "      <td>26</td>\n",
       "      <td>19</td>\n",
       "      <td>3916</td>\n",
       "      <td>46135</td>\n",
       "    </tr>\n",
       "    <tr>\n",
       "      <th>1</th>\n",
       "      <td>BMW</td>\n",
       "      <td>1 Series</td>\n",
       "      <td>2011</td>\n",
       "      <td>premium unleaded (required)</td>\n",
       "      <td>300.0</td>\n",
       "      <td>6.0</td>\n",
       "      <td>MANUAL</td>\n",
       "      <td>rear wheel drive</td>\n",
       "      <td>2.0</td>\n",
       "      <td>Luxury,Performance</td>\n",
       "      <td>Compact</td>\n",
       "      <td>Convertible</td>\n",
       "      <td>28</td>\n",
       "      <td>19</td>\n",
       "      <td>3916</td>\n",
       "      <td>40650</td>\n",
       "    </tr>\n",
       "    <tr>\n",
       "      <th>2</th>\n",
       "      <td>BMW</td>\n",
       "      <td>1 Series</td>\n",
       "      <td>2011</td>\n",
       "      <td>premium unleaded (required)</td>\n",
       "      <td>300.0</td>\n",
       "      <td>6.0</td>\n",
       "      <td>MANUAL</td>\n",
       "      <td>rear wheel drive</td>\n",
       "      <td>2.0</td>\n",
       "      <td>Luxury,High-Performance</td>\n",
       "      <td>Compact</td>\n",
       "      <td>Coupe</td>\n",
       "      <td>28</td>\n",
       "      <td>20</td>\n",
       "      <td>3916</td>\n",
       "      <td>36350</td>\n",
       "    </tr>\n",
       "    <tr>\n",
       "      <th>3</th>\n",
       "      <td>BMW</td>\n",
       "      <td>1 Series</td>\n",
       "      <td>2011</td>\n",
       "      <td>premium unleaded (required)</td>\n",
       "      <td>230.0</td>\n",
       "      <td>6.0</td>\n",
       "      <td>MANUAL</td>\n",
       "      <td>rear wheel drive</td>\n",
       "      <td>2.0</td>\n",
       "      <td>Luxury,Performance</td>\n",
       "      <td>Compact</td>\n",
       "      <td>Coupe</td>\n",
       "      <td>28</td>\n",
       "      <td>18</td>\n",
       "      <td>3916</td>\n",
       "      <td>29450</td>\n",
       "    </tr>\n",
       "    <tr>\n",
       "      <th>4</th>\n",
       "      <td>BMW</td>\n",
       "      <td>1 Series</td>\n",
       "      <td>2011</td>\n",
       "      <td>premium unleaded (required)</td>\n",
       "      <td>230.0</td>\n",
       "      <td>6.0</td>\n",
       "      <td>MANUAL</td>\n",
       "      <td>rear wheel drive</td>\n",
       "      <td>2.0</td>\n",
       "      <td>Luxury</td>\n",
       "      <td>Compact</td>\n",
       "      <td>Convertible</td>\n",
       "      <td>28</td>\n",
       "      <td>18</td>\n",
       "      <td>3916</td>\n",
       "      <td>34500</td>\n",
       "    </tr>\n",
       "  </tbody>\n",
       "</table>\n",
       "</div>"
      ],
      "text/plain": [
       "  Make       Model  Year             Engine Fuel Type  Engine HP  \\\n",
       "0  BMW  1 Series M  2011  premium unleaded (required)      335.0   \n",
       "1  BMW    1 Series  2011  premium unleaded (required)      300.0   \n",
       "2  BMW    1 Series  2011  premium unleaded (required)      300.0   \n",
       "3  BMW    1 Series  2011  premium unleaded (required)      230.0   \n",
       "4  BMW    1 Series  2011  premium unleaded (required)      230.0   \n",
       "\n",
       "   Engine Cylinders Transmission Type     Driven_Wheels  Number of Doors  \\\n",
       "0               6.0            MANUAL  rear wheel drive              2.0   \n",
       "1               6.0            MANUAL  rear wheel drive              2.0   \n",
       "2               6.0            MANUAL  rear wheel drive              2.0   \n",
       "3               6.0            MANUAL  rear wheel drive              2.0   \n",
       "4               6.0            MANUAL  rear wheel drive              2.0   \n",
       "\n",
       "                         Market Category Vehicle Size Vehicle Style  \\\n",
       "0  Factory Tuner,Luxury,High-Performance      Compact         Coupe   \n",
       "1                     Luxury,Performance      Compact   Convertible   \n",
       "2                Luxury,High-Performance      Compact         Coupe   \n",
       "3                     Luxury,Performance      Compact         Coupe   \n",
       "4                                 Luxury      Compact   Convertible   \n",
       "\n",
       "   highway MPG  city mpg  Popularity   MSRP  \n",
       "0           26        19        3916  46135  \n",
       "1           28        19        3916  40650  \n",
       "2           28        20        3916  36350  \n",
       "3           28        18        3916  29450  \n",
       "4           28        18        3916  34500  "
      ]
     },
     "execution_count": 74,
     "metadata": {},
     "output_type": "execute_result"
    }
   ],
   "source": [
    "df = pd.read_csv('data.csv')\n",
    "df.head()"
   ]
  },
  {
   "cell_type": "code",
   "execution_count": 75,
   "metadata": {
    "id": "XWHDS15pUtZ8"
   },
   "outputs": [
    {
     "data": {
      "text/html": [
       "<div>\n",
       "<style scoped>\n",
       "    .dataframe tbody tr th:only-of-type {\n",
       "        vertical-align: middle;\n",
       "    }\n",
       "\n",
       "    .dataframe tbody tr th {\n",
       "        vertical-align: top;\n",
       "    }\n",
       "\n",
       "    .dataframe thead th {\n",
       "        text-align: right;\n",
       "    }\n",
       "</style>\n",
       "<table border=\"1\" class=\"dataframe\">\n",
       "  <thead>\n",
       "    <tr style=\"text-align: right;\">\n",
       "      <th></th>\n",
       "      <th>Make</th>\n",
       "      <th>Model</th>\n",
       "      <th>Year</th>\n",
       "      <th>Engine Fuel Type</th>\n",
       "      <th>Engine HP</th>\n",
       "      <th>Engine Cylinders</th>\n",
       "      <th>Transmission Type</th>\n",
       "      <th>Driven_Wheels</th>\n",
       "      <th>Number of Doors</th>\n",
       "      <th>Market Category</th>\n",
       "      <th>Vehicle Size</th>\n",
       "      <th>Vehicle Style</th>\n",
       "      <th>highway MPG</th>\n",
       "      <th>city mpg</th>\n",
       "      <th>Popularity</th>\n",
       "      <th>MSRP</th>\n",
       "      <th>Maker_Model</th>\n",
       "    </tr>\n",
       "  </thead>\n",
       "  <tbody>\n",
       "    <tr>\n",
       "      <th>0</th>\n",
       "      <td>BMW</td>\n",
       "      <td>1 Series M</td>\n",
       "      <td>2011</td>\n",
       "      <td>premium unleaded (required)</td>\n",
       "      <td>335.0</td>\n",
       "      <td>6.0</td>\n",
       "      <td>MANUAL</td>\n",
       "      <td>rear wheel drive</td>\n",
       "      <td>2.0</td>\n",
       "      <td>Factory Tuner,Luxury,High-Performance</td>\n",
       "      <td>Compact</td>\n",
       "      <td>Coupe</td>\n",
       "      <td>26</td>\n",
       "      <td>19</td>\n",
       "      <td>3916</td>\n",
       "      <td>46135</td>\n",
       "      <td>BMW 1 Series M</td>\n",
       "    </tr>\n",
       "    <tr>\n",
       "      <th>1</th>\n",
       "      <td>BMW</td>\n",
       "      <td>1 Series</td>\n",
       "      <td>2011</td>\n",
       "      <td>premium unleaded (required)</td>\n",
       "      <td>300.0</td>\n",
       "      <td>6.0</td>\n",
       "      <td>MANUAL</td>\n",
       "      <td>rear wheel drive</td>\n",
       "      <td>2.0</td>\n",
       "      <td>Luxury,Performance</td>\n",
       "      <td>Compact</td>\n",
       "      <td>Convertible</td>\n",
       "      <td>28</td>\n",
       "      <td>19</td>\n",
       "      <td>3916</td>\n",
       "      <td>40650</td>\n",
       "      <td>BMW 1 Series</td>\n",
       "    </tr>\n",
       "    <tr>\n",
       "      <th>2</th>\n",
       "      <td>BMW</td>\n",
       "      <td>1 Series</td>\n",
       "      <td>2011</td>\n",
       "      <td>premium unleaded (required)</td>\n",
       "      <td>300.0</td>\n",
       "      <td>6.0</td>\n",
       "      <td>MANUAL</td>\n",
       "      <td>rear wheel drive</td>\n",
       "      <td>2.0</td>\n",
       "      <td>Luxury,High-Performance</td>\n",
       "      <td>Compact</td>\n",
       "      <td>Coupe</td>\n",
       "      <td>28</td>\n",
       "      <td>20</td>\n",
       "      <td>3916</td>\n",
       "      <td>36350</td>\n",
       "      <td>BMW 1 Series</td>\n",
       "    </tr>\n",
       "    <tr>\n",
       "      <th>3</th>\n",
       "      <td>BMW</td>\n",
       "      <td>1 Series</td>\n",
       "      <td>2011</td>\n",
       "      <td>premium unleaded (required)</td>\n",
       "      <td>230.0</td>\n",
       "      <td>6.0</td>\n",
       "      <td>MANUAL</td>\n",
       "      <td>rear wheel drive</td>\n",
       "      <td>2.0</td>\n",
       "      <td>Luxury,Performance</td>\n",
       "      <td>Compact</td>\n",
       "      <td>Coupe</td>\n",
       "      <td>28</td>\n",
       "      <td>18</td>\n",
       "      <td>3916</td>\n",
       "      <td>29450</td>\n",
       "      <td>BMW 1 Series</td>\n",
       "    </tr>\n",
       "    <tr>\n",
       "      <th>4</th>\n",
       "      <td>BMW</td>\n",
       "      <td>1 Series</td>\n",
       "      <td>2011</td>\n",
       "      <td>premium unleaded (required)</td>\n",
       "      <td>230.0</td>\n",
       "      <td>6.0</td>\n",
       "      <td>MANUAL</td>\n",
       "      <td>rear wheel drive</td>\n",
       "      <td>2.0</td>\n",
       "      <td>Luxury</td>\n",
       "      <td>Compact</td>\n",
       "      <td>Convertible</td>\n",
       "      <td>28</td>\n",
       "      <td>18</td>\n",
       "      <td>3916</td>\n",
       "      <td>34500</td>\n",
       "      <td>BMW 1 Series</td>\n",
       "    </tr>\n",
       "  </tbody>\n",
       "</table>\n",
       "</div>"
      ],
      "text/plain": [
       "  Make       Model  Year             Engine Fuel Type  Engine HP  \\\n",
       "0  BMW  1 Series M  2011  premium unleaded (required)      335.0   \n",
       "1  BMW    1 Series  2011  premium unleaded (required)      300.0   \n",
       "2  BMW    1 Series  2011  premium unleaded (required)      300.0   \n",
       "3  BMW    1 Series  2011  premium unleaded (required)      230.0   \n",
       "4  BMW    1 Series  2011  premium unleaded (required)      230.0   \n",
       "\n",
       "   Engine Cylinders Transmission Type     Driven_Wheels  Number of Doors  \\\n",
       "0               6.0            MANUAL  rear wheel drive              2.0   \n",
       "1               6.0            MANUAL  rear wheel drive              2.0   \n",
       "2               6.0            MANUAL  rear wheel drive              2.0   \n",
       "3               6.0            MANUAL  rear wheel drive              2.0   \n",
       "4               6.0            MANUAL  rear wheel drive              2.0   \n",
       "\n",
       "                         Market Category Vehicle Size Vehicle Style  \\\n",
       "0  Factory Tuner,Luxury,High-Performance      Compact         Coupe   \n",
       "1                     Luxury,Performance      Compact   Convertible   \n",
       "2                Luxury,High-Performance      Compact         Coupe   \n",
       "3                     Luxury,Performance      Compact         Coupe   \n",
       "4                                 Luxury      Compact   Convertible   \n",
       "\n",
       "   highway MPG  city mpg  Popularity   MSRP     Maker_Model  \n",
       "0           26        19        3916  46135  BMW 1 Series M  \n",
       "1           28        19        3916  40650    BMW 1 Series  \n",
       "2           28        20        3916  36350    BMW 1 Series  \n",
       "3           28        18        3916  29450    BMW 1 Series  \n",
       "4           28        18        3916  34500    BMW 1 Series  "
      ]
     },
     "execution_count": 75,
     "metadata": {},
     "output_type": "execute_result"
    }
   ],
   "source": [
    "df['Maker_Model']= df['Make']+ \" \" + df['Model']\n",
    "df.head()"
   ]
  },
  {
   "cell_type": "code",
   "execution_count": 76,
   "metadata": {
    "colab": {
     "base_uri": "https://localhost:8080/",
     "height": 310
    },
    "id": "TolZNmqpUtZ9",
    "outputId": "b4e66e39-196a-4c5f-ab14-4f96b41f0c7e"
   },
   "outputs": [
    {
     "data": {
      "text/html": [
       "<div>\n",
       "<style scoped>\n",
       "    .dataframe tbody tr th:only-of-type {\n",
       "        vertical-align: middle;\n",
       "    }\n",
       "\n",
       "    .dataframe tbody tr th {\n",
       "        vertical-align: top;\n",
       "    }\n",
       "\n",
       "    .dataframe thead th {\n",
       "        text-align: right;\n",
       "    }\n",
       "</style>\n",
       "<table border=\"1\" class=\"dataframe\">\n",
       "  <thead>\n",
       "    <tr style=\"text-align: right;\">\n",
       "      <th></th>\n",
       "      <th>Engine Fuel Type</th>\n",
       "      <th>Transmission Type</th>\n",
       "      <th>Driven_Wheels</th>\n",
       "      <th>Market Category</th>\n",
       "      <th>Vehicle Size</th>\n",
       "      <th>Vehicle Style</th>\n",
       "      <th>Maker_Model</th>\n",
       "    </tr>\n",
       "  </thead>\n",
       "  <tbody>\n",
       "    <tr>\n",
       "      <th>0</th>\n",
       "      <td>premium unleaded (required)</td>\n",
       "      <td>MANUAL</td>\n",
       "      <td>rear wheel drive</td>\n",
       "      <td>Factory Tuner,Luxury,High-Performance</td>\n",
       "      <td>Compact</td>\n",
       "      <td>Coupe</td>\n",
       "      <td>BMW 1 Series M</td>\n",
       "    </tr>\n",
       "    <tr>\n",
       "      <th>1</th>\n",
       "      <td>premium unleaded (required)</td>\n",
       "      <td>MANUAL</td>\n",
       "      <td>rear wheel drive</td>\n",
       "      <td>Luxury,Performance</td>\n",
       "      <td>Compact</td>\n",
       "      <td>Convertible</td>\n",
       "      <td>BMW 1 Series</td>\n",
       "    </tr>\n",
       "    <tr>\n",
       "      <th>2</th>\n",
       "      <td>premium unleaded (required)</td>\n",
       "      <td>MANUAL</td>\n",
       "      <td>rear wheel drive</td>\n",
       "      <td>Luxury,High-Performance</td>\n",
       "      <td>Compact</td>\n",
       "      <td>Coupe</td>\n",
       "      <td>BMW 1 Series</td>\n",
       "    </tr>\n",
       "    <tr>\n",
       "      <th>3</th>\n",
       "      <td>premium unleaded (required)</td>\n",
       "      <td>MANUAL</td>\n",
       "      <td>rear wheel drive</td>\n",
       "      <td>Luxury,Performance</td>\n",
       "      <td>Compact</td>\n",
       "      <td>Coupe</td>\n",
       "      <td>BMW 1 Series</td>\n",
       "    </tr>\n",
       "    <tr>\n",
       "      <th>4</th>\n",
       "      <td>premium unleaded (required)</td>\n",
       "      <td>MANUAL</td>\n",
       "      <td>rear wheel drive</td>\n",
       "      <td>Luxury</td>\n",
       "      <td>Compact</td>\n",
       "      <td>Convertible</td>\n",
       "      <td>BMW 1 Series</td>\n",
       "    </tr>\n",
       "  </tbody>\n",
       "</table>\n",
       "</div>"
      ],
      "text/plain": [
       "              Engine Fuel Type Transmission Type     Driven_Wheels  \\\n",
       "0  premium unleaded (required)            MANUAL  rear wheel drive   \n",
       "1  premium unleaded (required)            MANUAL  rear wheel drive   \n",
       "2  premium unleaded (required)            MANUAL  rear wheel drive   \n",
       "3  premium unleaded (required)            MANUAL  rear wheel drive   \n",
       "4  premium unleaded (required)            MANUAL  rear wheel drive   \n",
       "\n",
       "                         Market Category Vehicle Size Vehicle Style  \\\n",
       "0  Factory Tuner,Luxury,High-Performance      Compact         Coupe   \n",
       "1                     Luxury,Performance      Compact   Convertible   \n",
       "2                Luxury,High-Performance      Compact         Coupe   \n",
       "3                     Luxury,Performance      Compact         Coupe   \n",
       "4                                 Luxury      Compact   Convertible   \n",
       "\n",
       "      Maker_Model  \n",
       "0  BMW 1 Series M  \n",
       "1    BMW 1 Series  \n",
       "2    BMW 1 Series  \n",
       "3    BMW 1 Series  \n",
       "4    BMW 1 Series  "
      ]
     },
     "execution_count": 76,
     "metadata": {},
     "output_type": "execute_result"
    }
   ],
   "source": [
    "# Select features from original dataset to form a new dataframe\n",
    "df1 = df[['Engine Fuel Type','Transmission Type','Driven_Wheels','Market Category','Vehicle Size', 'Vehicle Style', 'Maker_Model']]\n",
    "df1.head()"
   ]
  },
  {
   "cell_type": "code",
   "execution_count": 77,
   "metadata": {
    "colab": {
     "base_uri": "https://localhost:8080/"
    },
    "id": "HuMoYEg0UtZ9",
    "outputId": "ba5b9a2d-56cb-4257-fd7f-35e745e5b894"
   },
   "outputs": [
    {
     "data": {
      "text/plain": [
       "0    premium unleaded (required),MANUAL,rear wheel ...\n",
       "1    premium unleaded (required),MANUAL,rear wheel ...\n",
       "2    premium unleaded (required),MANUAL,rear wheel ...\n",
       "3    premium unleaded (required),MANUAL,rear wheel ...\n",
       "4    premium unleaded (required),MANUAL,rear wheel ...\n",
       "dtype: object"
      ]
     },
     "execution_count": 77,
     "metadata": {},
     "output_type": "execute_result"
    }
   ],
   "source": [
    "# For each row, combine all the columns into one column\n",
    "df2 = df1.apply(lambda x: ','.join(x.astype(str)), axis=1)\n",
    "df2.head()"
   ]
  },
  {
   "cell_type": "code",
   "execution_count": 78,
   "metadata": {
    "colab": {
     "base_uri": "https://localhost:8080/"
    },
    "id": "5EO-V7uHUYje",
    "outputId": "0b6e5be2-8c47-4a44-be2a-a6c74e58bae2"
   },
   "outputs": [
    {
     "data": {
      "text/plain": [
       "(11914,)"
      ]
     },
     "execution_count": 78,
     "metadata": {},
     "output_type": "execute_result"
    }
   ],
   "source": [
    "df2.shape"
   ]
  },
  {
   "cell_type": "code",
   "execution_count": 79,
   "metadata": {
    "colab": {
     "base_uri": "https://localhost:8080/",
     "height": 206
    },
    "id": "CZ55AshrUtZ-",
    "outputId": "04c108ab-7db0-4ed4-aa3a-81090fab4222"
   },
   "outputs": [
    {
     "data": {
      "text/html": [
       "<div>\n",
       "<style scoped>\n",
       "    .dataframe tbody tr th:only-of-type {\n",
       "        vertical-align: middle;\n",
       "    }\n",
       "\n",
       "    .dataframe tbody tr th {\n",
       "        vertical-align: top;\n",
       "    }\n",
       "\n",
       "    .dataframe thead th {\n",
       "        text-align: right;\n",
       "    }\n",
       "</style>\n",
       "<table border=\"1\" class=\"dataframe\">\n",
       "  <thead>\n",
       "    <tr style=\"text-align: right;\">\n",
       "      <th></th>\n",
       "      <th>clean</th>\n",
       "    </tr>\n",
       "  </thead>\n",
       "  <tbody>\n",
       "    <tr>\n",
       "      <th>0</th>\n",
       "      <td>premium unleaded (required),MANUAL,rear wheel ...</td>\n",
       "    </tr>\n",
       "    <tr>\n",
       "      <th>1</th>\n",
       "      <td>premium unleaded (required),MANUAL,rear wheel ...</td>\n",
       "    </tr>\n",
       "    <tr>\n",
       "      <th>2</th>\n",
       "      <td>premium unleaded (required),MANUAL,rear wheel ...</td>\n",
       "    </tr>\n",
       "    <tr>\n",
       "      <th>3</th>\n",
       "      <td>premium unleaded (required),MANUAL,rear wheel ...</td>\n",
       "    </tr>\n",
       "    <tr>\n",
       "      <th>4</th>\n",
       "      <td>premium unleaded (required),MANUAL,rear wheel ...</td>\n",
       "    </tr>\n",
       "  </tbody>\n",
       "</table>\n",
       "</div>"
      ],
      "text/plain": [
       "                                               clean\n",
       "0  premium unleaded (required),MANUAL,rear wheel ...\n",
       "1  premium unleaded (required),MANUAL,rear wheel ...\n",
       "2  premium unleaded (required),MANUAL,rear wheel ...\n",
       "3  premium unleaded (required),MANUAL,rear wheel ...\n",
       "4  premium unleaded (required),MANUAL,rear wheel ..."
      ]
     },
     "execution_count": 79,
     "metadata": {},
     "output_type": "execute_result"
    }
   ],
   "source": [
    "# Store them in a pandas dataframe\n",
    "df_clean = pd.DataFrame({'clean': df2})\n",
    "df_clean.head()"
   ]
  },
  {
   "cell_type": "code",
   "execution_count": 80,
   "metadata": {
    "colab": {
     "base_uri": "https://localhost:8080/"
    },
    "id": "-QM6zG1hUtZ-",
    "outputId": "b65527a5-1631-4273-9901-fd9885551c08"
   },
   "outputs": [
    {
     "data": {
      "text/plain": [
       "[['premium unleaded (required)',\n",
       "  'MANUAL',\n",
       "  'rear wheel drive',\n",
       "  'Factory Tuner',\n",
       "  'Luxury',\n",
       "  'High-Performance',\n",
       "  'Compact',\n",
       "  'Coupe',\n",
       "  'BMW 1 Series M'],\n",
       " ['premium unleaded (required)',\n",
       "  'MANUAL',\n",
       "  'rear wheel drive',\n",
       "  'Luxury',\n",
       "  'Performance',\n",
       "  'Compact',\n",
       "  'Convertible',\n",
       "  'BMW 1 Series']]"
      ]
     },
     "execution_count": 80,
     "metadata": {},
     "output_type": "execute_result"
    }
   ],
   "source": [
    "# Create the list of list format of the custom corpus for gensim modeling\n",
    "sent = [row.split(',') for row in df_clean['clean']]\n",
    "# show the example of list of list format of the custom corpus for gensim modeling\n",
    "sent[:2]"
   ]
  },
  {
   "cell_type": "markdown",
   "metadata": {
    "id": "emfhIRKxUtZ-"
   },
   "source": [
    "## Train Word2Vec model (skip-gram)"
   ]
  },
  {
   "cell_type": "code",
   "execution_count": null,
   "metadata": {
    "colab": {
     "base_uri": "https://localhost:8080/",
     "height": 524
    },
    "id": "BMZGgSusUtZ_",
    "outputId": "f2e1f056-b442-4b02-e08f-ec2646dd058c"
   },
   "outputs": [],
   "source": [
    "# from gensim import models\n",
    "from gensim.models import Word2Vec\n",
    "\n",
    "model = Word2Vec(sent, min_count=1, vector_size=300, workers=5, window=10, sg=1, epochs=100)\n",
    "# model = Word2Vec(sent, min_count=1,size= 300,workers=5, window=10, sg = 1, iter=100)"
   ]
  },
  {
   "cell_type": "markdown",
   "metadata": {
    "id": "7r8jBtocUtZ_"
   },
   "source": [
    "**vector_size**: The number of dimensions of the embeddings and the default is 100.\n",
    "\n",
    "**window**: The maximum distance between a target word and words around the target word. The default window is 5.\n",
    "\n",
    "**min_count**: The minimum count of words to consider when training the model; words with occurrence less than this count will be ignored. The default for min_count is 5.\n",
    "\n",
    "**workers**: The number of partitions during training and the default workers is 3.\n",
    "\n",
    "**sg**: The training algorithm, either CBOW(0) or skip gram(1). The default training algorithm is CBOW."
   ]
  },
  {
   "cell_type": "code",
   "execution_count": 82,
   "metadata": {
    "colab": {
     "base_uri": "https://localhost:8080/"
    },
    "id": "X3MeIZVeUtZ_",
    "outputId": "a399d8fb-c924-4e8d-9479-fa30021f2076"
   },
   "outputs": [
    {
     "data": {
      "text/plain": [
       "array([ 1.89847127e-01,  9.43725333e-02, -1.47713097e-02, -1.69808552e-01,\n",
       "        5.77887520e-02, -2.85889149e-01,  1.61211267e-01,  3.48973870e-01,\n",
       "       -1.10616326e-01, -1.90830275e-01,  3.36761206e-01, -2.67641425e-01,\n",
       "        1.62417412e-01,  2.80134767e-01, -1.67414680e-01,  1.07456995e-02,\n",
       "        5.61696529e-01,  2.18805343e-01, -3.01352382e-01,  4.62156534e-02,\n",
       "       -9.81320664e-02, -4.81127501e-02, -1.21994264e-01,  5.39298594e-01,\n",
       "       -1.81352422e-01, -2.38792598e-01, -2.69530654e-01,  8.51163715e-02,\n",
       "       -1.38429105e-01, -3.94460469e-01,  4.93268520e-01,  6.88589141e-02,\n",
       "       -1.27844617e-01, -7.00070709e-02,  6.75419420e-02, -1.06072284e-01,\n",
       "        1.95214748e-01, -2.02210665e-01, -2.35644430e-02,  1.23034744e-02,\n",
       "       -2.37439945e-01, -3.98313701e-02,  1.92362845e-01,  3.07950228e-01,\n",
       "       -5.90579286e-02,  8.72610211e-02, -5.55382995e-03, -1.51125729e-01,\n",
       "        2.79862702e-01,  1.11177564e-01,  1.75054312e-01, -3.09244066e-01,\n",
       "        9.58311483e-02,  1.14275552e-02, -1.04889274e-01,  3.53275165e-02,\n",
       "       -3.04148179e-02, -9.15370956e-02, -4.26716544e-02,  1.26526788e-01,\n",
       "        9.70456600e-02,  1.55856878e-01,  1.47310808e-01,  3.18080634e-01,\n",
       "       -2.02477366e-01,  7.83528835e-02,  1.31861120e-01,  6.22781962e-02,\n",
       "       -1.63710594e-01,  3.51560175e-01,  2.60679007e-01,  5.25020771e-02,\n",
       "        3.07685554e-01, -2.04699010e-01,  1.47770956e-01,  1.87579826e-01,\n",
       "       -7.31839389e-02,  8.99847001e-02, -8.46214816e-02,  4.07432206e-02,\n",
       "        1.83595493e-02, -1.59000844e-01,  4.09674868e-02,  3.93221408e-01,\n",
       "        1.44374415e-01, -5.56799695e-02,  1.86624765e-01,  9.26979929e-02,\n",
       "       -1.06054455e-01, -7.11931288e-02,  2.07786381e-01,  5.02285846e-02,\n",
       "       -3.34372759e-01, -2.62002684e-02,  6.33333251e-02, -6.61345273e-02,\n",
       "        2.09352523e-01, -1.36622727e-01,  3.27877365e-02, -1.28630623e-01,\n",
       "        2.38770843e-01,  2.15972736e-01,  9.52714533e-02,  1.49403438e-01,\n",
       "        8.45271274e-02, -4.52495143e-02,  2.35883862e-01, -1.25147328e-01,\n",
       "       -4.44055915e-01,  3.40745114e-02, -2.26720020e-01,  2.69686610e-01,\n",
       "       -1.77863419e-01,  3.43657136e-02, -2.48711258e-02, -3.27714682e-02,\n",
       "        3.17143768e-01, -1.19487211e-01,  5.57341101e-03, -1.64916098e-01,\n",
       "       -3.83818299e-02,  2.93419629e-01,  1.43558681e-01, -5.39973043e-02,\n",
       "        2.44757980e-01,  3.80426466e-01, -3.33657056e-01, -4.88001332e-02,\n",
       "       -1.27801746e-01,  3.70975643e-01,  6.70868307e-02, -1.14964321e-01,\n",
       "        5.84108904e-02, -5.13237000e-01,  3.33471522e-02,  4.49037850e-01,\n",
       "       -1.68129310e-01, -7.03134760e-03, -4.18708384e-01, -1.51292011e-01,\n",
       "        7.71954954e-02, -5.68425562e-03, -8.83116573e-02,  7.54511356e-02,\n",
       "       -4.01035398e-02, -1.07558519e-01, -1.36510301e-02, -8.88197273e-02,\n",
       "        2.05726266e-01, -2.06450626e-01,  2.76106685e-01, -2.81449765e-01,\n",
       "       -2.08942428e-01, -4.55343314e-02, -2.06685647e-01, -2.15489175e-02,\n",
       "       -5.04566580e-02,  3.46978724e-01, -1.10449910e-01,  3.26331019e-01,\n",
       "        5.70312627e-02, -6.34642765e-02, -5.11620082e-02,  2.26480633e-01,\n",
       "        5.05912721e-01, -6.22965628e-04, -5.71274906e-02, -2.04889446e-01,\n",
       "       -1.42982215e-01, -3.34894285e-02, -2.66448528e-01, -9.47999433e-02,\n",
       "        9.47476178e-02,  3.47678699e-02,  7.81512335e-02, -1.39169201e-01,\n",
       "       -2.99701303e-01,  1.20842241e-01,  2.55638272e-01, -3.61615010e-02,\n",
       "        1.19716324e-01,  1.23341829e-01, -2.67384112e-01, -1.16555564e-01,\n",
       "       -2.05515325e-01, -6.41340390e-02,  3.15416276e-01,  1.26291946e-01,\n",
       "        1.41417935e-01, -3.01130146e-01,  1.53135628e-01,  4.49600369e-02,\n",
       "       -1.51916623e-01, -1.58194497e-01, -1.26804203e-01, -3.36241513e-01,\n",
       "       -5.04464209e-02,  1.76854998e-01, -2.10060123e-02, -1.23124555e-01,\n",
       "       -1.37628242e-01,  1.59952909e-01, -2.07201228e-01, -1.32393271e-01,\n",
       "        3.45284462e-01,  1.93475783e-01,  6.53480217e-02,  1.35726064e-01,\n",
       "       -1.34107336e-01,  1.08378224e-01, -8.70908499e-02, -2.13765338e-01,\n",
       "        2.83083171e-01, -5.86412698e-02,  4.32134084e-02,  4.13750894e-02,\n",
       "       -7.65514523e-02, -3.66719425e-01, -2.17079714e-01, -2.01278165e-01,\n",
       "        6.47025183e-02, -2.24093422e-01,  1.76686615e-01, -1.43594161e-01,\n",
       "       -1.37697294e-01, -1.00881696e-01,  1.22244656e-01, -7.53983557e-02,\n",
       "        1.39305472e-01, -1.11705147e-01,  1.22137705e-03, -1.45741209e-01,\n",
       "        1.05820306e-01, -1.23976301e-02, -5.02428971e-02, -4.28787395e-02,\n",
       "        2.08248198e-01,  9.99251083e-02,  3.05385757e-02,  1.44020483e-01,\n",
       "        1.60121560e-01,  8.83307755e-02,  6.09704219e-02,  9.65313315e-02,\n",
       "       -2.95112617e-02, -4.82917018e-02, -3.86663042e-02, -1.04813188e-01,\n",
       "        2.90266946e-02, -1.07371837e-01,  3.54369640e-01, -1.45820856e-01,\n",
       "        2.37178564e-01,  1.77696288e-01, -1.67407110e-01, -1.57881796e-01,\n",
       "        9.15916413e-02,  2.01650485e-01, -7.54052475e-02, -3.70710623e-05,\n",
       "        2.65286281e-03, -1.63731620e-01,  3.02442014e-01,  1.42915413e-01,\n",
       "       -1.44684762e-01,  6.02043420e-02,  1.91949010e-01,  1.70335338e-01,\n",
       "       -1.32857412e-01,  4.03252020e-02, -6.72092810e-02, -1.81104206e-02,\n",
       "       -1.08595461e-01, -1.05382226e-01, -6.13500960e-02, -9.11836326e-02,\n",
       "        3.87800299e-02,  2.09629849e-01, -2.07750037e-01, -7.26974458e-02,\n",
       "       -1.85568169e-01,  6.12216480e-02,  1.19270328e-02,  2.06613958e-01,\n",
       "        7.99734667e-02,  2.20308632e-01, -2.55378604e-01,  1.48594558e-01,\n",
       "       -4.26692292e-02,  5.38652651e-02,  9.39212833e-03,  8.78421664e-02,\n",
       "        6.51835203e-02,  8.09984803e-02,  3.17547232e-01,  7.33064711e-02,\n",
       "        2.58238643e-01, -5.14198504e-02,  1.42198712e-01, -2.82283157e-01],\n",
       "      dtype=float32)"
      ]
     },
     "execution_count": 82,
     "metadata": {},
     "output_type": "execute_result"
    }
   ],
   "source": [
    "model.wv['Toyota Camry']"
   ]
  },
  {
   "cell_type": "code",
   "execution_count": 83,
   "metadata": {
    "colab": {
     "base_uri": "https://localhost:8080/"
    },
    "id": "_FJPVey0UtZ_",
    "outputId": "df2cbb12-919e-4798-9db4-ad1faa9ec815"
   },
   "outputs": [
    {
     "data": {
      "text/plain": [
       "0.53164524"
      ]
     },
     "execution_count": 83,
     "metadata": {},
     "output_type": "execute_result"
    }
   ],
   "source": [
    "model.wv.similarity('Porsche 718 Cayman', 'Nissan Van')"
   ]
  },
  {
   "cell_type": "code",
   "execution_count": 84,
   "metadata": {
    "colab": {
     "base_uri": "https://localhost:8080/"
    },
    "id": "At4HctSlUtZ_",
    "outputId": "2e81dc80-8d67-439c-da68-627504498798"
   },
   "outputs": [
    {
     "data": {
      "text/plain": [
       "0.81829935"
      ]
     },
     "execution_count": 84,
     "metadata": {},
     "output_type": "execute_result"
    }
   ],
   "source": [
    "model.wv.similarity('Porsche 718 Cayman', 'Mercedes-Benz SLK-Class')"
   ]
  },
  {
   "cell_type": "code",
   "execution_count": 85,
   "metadata": {
    "colab": {
     "base_uri": "https://localhost:8080/"
    },
    "id": "KC46DzVfUtaA",
    "outputId": "9a22394c-923e-4eaf-858e-4a6b2e7b47e0"
   },
   "outputs": [
    {
     "data": {
      "text/plain": [
       "[('Mercedes-Benz SL-Class', 0.979009211063385),\n",
       " ('Cadillac XLR-V', 0.9761945009231567),\n",
       " ('Mercedes-Benz SLC-Class', 0.9536489248275757),\n",
       " ('Porsche Boxster', 0.9261844158172607),\n",
       " ('Chrysler Prowler', 0.9252148270606995)]"
      ]
     },
     "execution_count": 85,
     "metadata": {},
     "output_type": "execute_result"
    }
   ],
   "source": [
    "model.wv.most_similar('Mercedes-Benz SLK-Class')[:5]"
   ]
  },
  {
   "cell_type": "code",
   "execution_count": 86,
   "metadata": {},
   "outputs": [
    {
     "data": {
      "text/plain": [
       "<gensim.models.word2vec.Word2Vec at 0x20cfab48830>"
      ]
     },
     "execution_count": 86,
     "metadata": {},
     "output_type": "execute_result"
    }
   ],
   "source": [
    "model"
   ]
  },
  {
   "cell_type": "code",
   "execution_count": 87,
   "metadata": {
    "id": "0JYKlix3UtaA"
   },
   "outputs": [],
   "source": [
    "def cosine_distance (model, word,target_list , num) :\n",
    "    cosine_dict ={}\n",
    "    word_list = []\n",
    "    a = model.wv[word]\n",
    "    for item in target_list :\n",
    "        if item != word :\n",
    "            b = model.wv[item]\n",
    "            cos_sim = np.dot(a, b)/(np.linalg.norm(a)*np.linalg.norm(b))\n",
    "            cosine_dict[item] = cos_sim\n",
    "    dist_sort=sorted(cosine_dict.items(), key=lambda dist: dist[1],reverse = True) ## in Descending order\n",
    "    for item in dist_sort:\n",
    "        word_list.append((item[0], item[1]))\n",
    "    return word_list[0:num]"
   ]
  },
  {
   "cell_type": "code",
   "execution_count": 88,
   "metadata": {
    "colab": {
     "base_uri": "https://localhost:8080/",
     "height": 305
    },
    "id": "GpB8MdZSUtaA",
    "outputId": "800b7b62-ff8f-4b59-bdf1-f7aff5699d27"
   },
   "outputs": [
    {
     "data": {
      "text/plain": [
       "[('Mercedes-Benz SL-Class', 0.97900915),\n",
       " ('Cadillac XLR-V', 0.9761945),\n",
       " ('Mercedes-Benz SLC-Class', 0.9536489),\n",
       " ('Porsche Boxster', 0.9261844),\n",
       " ('Chrysler Prowler', 0.9252148)]"
      ]
     },
     "execution_count": 88,
     "metadata": {},
     "output_type": "execute_result"
    }
   ],
   "source": [
    "# only get the unique Maker_Model\n",
    "Maker_Model = list(df.Maker_Model.unique())\n",
    "\n",
    "# Show the most similar Mercedes-Benz SLK-Class by cosine distance\n",
    "cosine_distance(model,'Mercedes-Benz SLK-Class', Maker_Model, 5)"
   ]
  },
  {
   "cell_type": "markdown",
   "metadata": {
    "id": "7pfM2EZAUtaB"
   },
   "source": [
    "# Activity"
   ]
  },
  {
   "cell_type": "markdown",
   "metadata": {
    "id": "DBBdppXBUtaB"
   },
   "source": [
    "1. Use the customer complaint data to estimate the word embedding vectors\n",
    "2. Find similar words to 'debt', 'collection', 'risk'.\n",
    "3. Plot the closest word using TSNE of the words in (2)."
   ]
  },
  {
   "cell_type": "code",
   "execution_count": 2,
   "metadata": {},
   "outputs": [],
   "source": [
    "import re\n",
    "from nltk.corpus import stopwords\n",
    "from nltk import WordNetLemmatizer\n",
    "from sklearn.manifold import TSNE"
   ]
  },
  {
   "cell_type": "markdown",
   "metadata": {},
   "source": [
    "### Text prep"
   ]
  },
  {
   "cell_type": "code",
   "execution_count": 90,
   "metadata": {},
   "outputs": [
    {
     "name": "stdout",
     "output_type": "stream",
     "text": [
      "(492255, 2)\n"
     ]
    },
    {
     "data": {
      "text/html": [
       "<div>\n",
       "<style scoped>\n",
       "    .dataframe tbody tr th:only-of-type {\n",
       "        vertical-align: middle;\n",
       "    }\n",
       "\n",
       "    .dataframe tbody tr th {\n",
       "        vertical-align: top;\n",
       "    }\n",
       "\n",
       "    .dataframe thead th {\n",
       "        text-align: right;\n",
       "    }\n",
       "</style>\n",
       "<table border=\"1\" class=\"dataframe\">\n",
       "  <thead>\n",
       "    <tr style=\"text-align: right;\">\n",
       "      <th></th>\n",
       "      <th>topic</th>\n",
       "      <th>input</th>\n",
       "    </tr>\n",
       "  </thead>\n",
       "  <tbody>\n",
       "    <tr>\n",
       "      <th>0</th>\n",
       "      <td>Debt collection</td>\n",
       "      <td>transworld systems inc. \\nis trying to collect...</td>\n",
       "    </tr>\n",
       "    <tr>\n",
       "      <th>1</th>\n",
       "      <td>Credit reporting, credit repair services, or o...</td>\n",
       "      <td>I would like to request the suppression of the...</td>\n",
       "    </tr>\n",
       "    <tr>\n",
       "      <th>2</th>\n",
       "      <td>Debt collection</td>\n",
       "      <td>Over the past 2 weeks, I have been receiving e...</td>\n",
       "    </tr>\n",
       "    <tr>\n",
       "      <th>3</th>\n",
       "      <td>Credit reporting, credit repair services, or o...</td>\n",
       "      <td>I HAD FILED WITH CFPB ON XX/XX/XXXX19 TO HAVE ...</td>\n",
       "    </tr>\n",
       "    <tr>\n",
       "      <th>4</th>\n",
       "      <td>Credit reporting, credit repair services, or o...</td>\n",
       "      <td>I have several accounts that the balance is in...</td>\n",
       "    </tr>\n",
       "  </tbody>\n",
       "</table>\n",
       "</div>"
      ],
      "text/plain": [
       "                                               topic  \\\n",
       "0                                    Debt collection   \n",
       "1  Credit reporting, credit repair services, or o...   \n",
       "2                                    Debt collection   \n",
       "3  Credit reporting, credit repair services, or o...   \n",
       "4  Credit reporting, credit repair services, or o...   \n",
       "\n",
       "                                               input  \n",
       "0  transworld systems inc. \\nis trying to collect...  \n",
       "1  I would like to request the suppression of the...  \n",
       "2  Over the past 2 weeks, I have been receiving e...  \n",
       "3  I HAD FILED WITH CFPB ON XX/XX/XXXX19 TO HAVE ...  \n",
       "4  I have several accounts that the balance is in...  "
      ]
     },
     "execution_count": 90,
     "metadata": {},
     "output_type": "execute_result"
    }
   ],
   "source": [
    "complaint = pd.read_pickle('consumer_complaint_dataset.data', compression='gzip')\n",
    "print(complaint.shape)\n",
    "complaint.head()"
   ]
  },
  {
   "cell_type": "code",
   "execution_count": 91,
   "metadata": {},
   "outputs": [
    {
     "name": "stdout",
     "output_type": "stream",
     "text": [
      "1. Debt collection: 106946\n",
      "2. Credit reporting, credit repair services, or other personal consumer reports: 145090\n",
      "3. Money transfer, virtual currency, or money service: 7865\n",
      "4. Mortgage: 61581\n",
      "5. Student loan: 25083\n",
      "6. Vehicle loan or lease: 8204\n",
      "7. Checking or savings account: 19153\n",
      "8. Credit card or prepaid card: 32144\n",
      "9. Credit card: 18838\n",
      "10. Payday loan, title loan, or personal loan: 6404\n",
      "11. Consumer Loan: 9473\n",
      "12. Payday loan: 1746\n",
      "13. Bank account or service: 14885\n",
      "14. Credit reporting: 31588\n",
      "15. Other financial service: 292\n",
      "16. Prepaid card: 1450\n",
      "17. Money transfers: 1497\n",
      "18. Virtual currency: 16\n"
     ]
    }
   ],
   "source": [
    "# check topic for sampling the test set\n",
    "for ind, topic in enumerate(complaint['topic'].unique()):\n",
    "    temp = complaint[ complaint['topic'] == topic ].copy()\n",
    "    print(f'{ind + 1}. {topic}: {len(temp)}')"
   ]
  },
  {
   "cell_type": "code",
   "execution_count": 92,
   "metadata": {},
   "outputs": [
    {
     "data": {
      "text/html": [
       "<div>\n",
       "<style scoped>\n",
       "    .dataframe tbody tr th:only-of-type {\n",
       "        vertical-align: middle;\n",
       "    }\n",
       "\n",
       "    .dataframe tbody tr th {\n",
       "        vertical-align: top;\n",
       "    }\n",
       "\n",
       "    .dataframe thead th {\n",
       "        text-align: right;\n",
       "    }\n",
       "</style>\n",
       "<table border=\"1\" class=\"dataframe\">\n",
       "  <thead>\n",
       "    <tr style=\"text-align: right;\">\n",
       "      <th></th>\n",
       "      <th>topic</th>\n",
       "      <th>input</th>\n",
       "    </tr>\n",
       "  </thead>\n",
       "  <tbody>\n",
       "    <tr>\n",
       "      <th>0</th>\n",
       "      <td>Debt collection</td>\n",
       "      <td>company reaged account and refuses to ive any ...</td>\n",
       "    </tr>\n",
       "    <tr>\n",
       "      <th>1</th>\n",
       "      <td>Debt collection</td>\n",
       "      <td>I worked for XXXX XXXX. They provided me with ...</td>\n",
       "    </tr>\n",
       "    <tr>\n",
       "      <th>2</th>\n",
       "      <td>Debt collection</td>\n",
       "      <td>On XX/XX/2017, I was contacted by Navient, and...</td>\n",
       "    </tr>\n",
       "    <tr>\n",
       "      <th>3</th>\n",
       "      <td>Debt collection</td>\n",
       "      <td>XXXX XXXX XXXX sold a paid debt to NATIONAL CR...</td>\n",
       "    </tr>\n",
       "    <tr>\n",
       "      <th>4</th>\n",
       "      <td>Debt collection</td>\n",
       "      <td>I signed up for XXXX in XX/XX/XXXX. \\nI decide...</td>\n",
       "    </tr>\n",
       "    <tr>\n",
       "      <th>...</th>\n",
       "      <td>...</td>\n",
       "      <td>...</td>\n",
       "    </tr>\n",
       "    <tr>\n",
       "      <th>30996</th>\n",
       "      <td>Virtual currency</td>\n",
       "      <td>I received a random notice 3 days ago from a d...</td>\n",
       "    </tr>\n",
       "    <tr>\n",
       "      <th>30997</th>\n",
       "      <td>Virtual currency</td>\n",
       "      <td>Money was going to be transferred from XXXX to...</td>\n",
       "    </tr>\n",
       "    <tr>\n",
       "      <th>30998</th>\n",
       "      <td>Virtual currency</td>\n",
       "      <td>Signed up with Coinbase.com with a {$75.00} si...</td>\n",
       "    </tr>\n",
       "    <tr>\n",
       "      <th>30999</th>\n",
       "      <td>Virtual currency</td>\n",
       "      <td>Signed up with Coinbase.com with a {$75.00} si...</td>\n",
       "    </tr>\n",
       "    <tr>\n",
       "      <th>31000</th>\n",
       "      <td>Virtual currency</td>\n",
       "      <td>Coinbase account closed without reasonable exp...</td>\n",
       "    </tr>\n",
       "  </tbody>\n",
       "</table>\n",
       "<p>31001 rows × 2 columns</p>\n",
       "</div>"
      ],
      "text/plain": [
       "                  topic                                              input\n",
       "0       Debt collection  company reaged account and refuses to ive any ...\n",
       "1       Debt collection  I worked for XXXX XXXX. They provided me with ...\n",
       "2       Debt collection  On XX/XX/2017, I was contacted by Navient, and...\n",
       "3       Debt collection  XXXX XXXX XXXX sold a paid debt to NATIONAL CR...\n",
       "4       Debt collection  I signed up for XXXX in XX/XX/XXXX. \\nI decide...\n",
       "...                 ...                                                ...\n",
       "30996  Virtual currency  I received a random notice 3 days ago from a d...\n",
       "30997  Virtual currency  Money was going to be transferred from XXXX to...\n",
       "30998  Virtual currency  Signed up with Coinbase.com with a {$75.00} si...\n",
       "30999  Virtual currency  Signed up with Coinbase.com with a {$75.00} si...\n",
       "31000  Virtual currency  Coinbase account closed without reasonable exp...\n",
       "\n",
       "[31001 rows x 2 columns]"
      ]
     },
     "execution_count": 92,
     "metadata": {},
     "output_type": "execute_result"
    }
   ],
   "source": [
    "df_prep = pd.DataFrame(columns=complaint.columns)\n",
    "\n",
    "for topic in complaint['topic'].unique():\n",
    "    temp = complaint[ complaint['topic'] == topic ].copy()\n",
    "    \n",
    "    if(len(temp) < 2000):\n",
    "        df_prep = pd.concat([df_prep, temp])\n",
    "    else:\n",
    "        df_prep = pd.concat([df_prep, temp.sample(2000)])\n",
    "        \n",
    "\n",
    "df_prep.reset_index(drop=True, inplace=True)\n",
    "df_prep"
   ]
  },
  {
   "cell_type": "code",
   "execution_count": 93,
   "metadata": {},
   "outputs": [
    {
     "data": {
      "text/html": [
       "<div>\n",
       "<style scoped>\n",
       "    .dataframe tbody tr th:only-of-type {\n",
       "        vertical-align: middle;\n",
       "    }\n",
       "\n",
       "    .dataframe tbody tr th {\n",
       "        vertical-align: top;\n",
       "    }\n",
       "\n",
       "    .dataframe thead th {\n",
       "        text-align: right;\n",
       "    }\n",
       "</style>\n",
       "<table border=\"1\" class=\"dataframe\">\n",
       "  <thead>\n",
       "    <tr style=\"text-align: right;\">\n",
       "      <th></th>\n",
       "      <th>topic</th>\n",
       "      <th>input</th>\n",
       "      <th>clean</th>\n",
       "    </tr>\n",
       "  </thead>\n",
       "  <tbody>\n",
       "    <tr>\n",
       "      <th>0</th>\n",
       "      <td>Debt collection</td>\n",
       "      <td>company reaged account and refuses to ive any ...</td>\n",
       "      <td>Debt collection company reaged account and ref...</td>\n",
       "    </tr>\n",
       "    <tr>\n",
       "      <th>1</th>\n",
       "      <td>Debt collection</td>\n",
       "      <td>I worked for XXXX XXXX. They provided me with ...</td>\n",
       "      <td>Debt collection I worked for XXXX XXXX. They p...</td>\n",
       "    </tr>\n",
       "    <tr>\n",
       "      <th>2</th>\n",
       "      <td>Debt collection</td>\n",
       "      <td>On XX/XX/2017, I was contacted by Navient, and...</td>\n",
       "      <td>Debt collection On XX/XX/2017, I was contacted...</td>\n",
       "    </tr>\n",
       "    <tr>\n",
       "      <th>3</th>\n",
       "      <td>Debt collection</td>\n",
       "      <td>XXXX XXXX XXXX sold a paid debt to NATIONAL CR...</td>\n",
       "      <td>Debt collection XXXX XXXX XXXX sold a paid deb...</td>\n",
       "    </tr>\n",
       "    <tr>\n",
       "      <th>4</th>\n",
       "      <td>Debt collection</td>\n",
       "      <td>I signed up for XXXX in XX/XX/XXXX. \\nI decide...</td>\n",
       "      <td>Debt collection I signed up for XXXX in XX/XX/...</td>\n",
       "    </tr>\n",
       "  </tbody>\n",
       "</table>\n",
       "</div>"
      ],
      "text/plain": [
       "             topic                                              input  \\\n",
       "0  Debt collection  company reaged account and refuses to ive any ...   \n",
       "1  Debt collection  I worked for XXXX XXXX. They provided me with ...   \n",
       "2  Debt collection  On XX/XX/2017, I was contacted by Navient, and...   \n",
       "3  Debt collection  XXXX XXXX XXXX sold a paid debt to NATIONAL CR...   \n",
       "4  Debt collection  I signed up for XXXX in XX/XX/XXXX. \\nI decide...   \n",
       "\n",
       "                                               clean  \n",
       "0  Debt collection company reaged account and ref...  \n",
       "1  Debt collection I worked for XXXX XXXX. They p...  \n",
       "2  Debt collection On XX/XX/2017, I was contacted...  \n",
       "3  Debt collection XXXX XXXX XXXX sold a paid deb...  \n",
       "4  Debt collection I signed up for XXXX in XX/XX/...  "
      ]
     },
     "execution_count": 93,
     "metadata": {},
     "output_type": "execute_result"
    }
   ],
   "source": [
    "# For each row, combine all the columns into one column\n",
    "df_prep['clean'] = df_prep['topic'] + ' ' + df_prep['input']\n",
    "df_prep.head()"
   ]
  },
  {
   "cell_type": "code",
   "execution_count": 101,
   "metadata": {},
   "outputs": [],
   "source": [
    "stop_words = stopwords.words('english')\n",
    "def clean_sentence(df, label):\n",
    "    for ind, sentence in enumerate(df[label]):\n",
    "        punctuation_pattern = re.compile(r'[^\\w\\s]|_')\n",
    "        text = re.sub(punctuation_pattern, '', sentence)\n",
    "\n",
    "        text = re.sub('\\n', '', text)\n",
    "        words = text.split(' ')\n",
    "        words = [word.lower() for word in words if word.lower() not in stop_words]\n",
    "        \n",
    "        lemmatizer = WordNetLemmatizer()\n",
    "        cleaned_text = ' '.join([lemmatizer.lemmatize(word, pos='v') for word in words])\n",
    "        cleaned_text = ' '.join([lemmatizer.lemmatize(word, pos='n') for word in cleaned_text.split(' ')])\n",
    "        \n",
    "        df.loc[ind, label] = cleaned_text\n",
    "    \n",
    "\n",
    "clean_sentence(df_prep, 'clean')"
   ]
  },
  {
   "cell_type": "code",
   "execution_count": 102,
   "metadata": {},
   "outputs": [
    {
     "data": {
      "text/plain": [
       "[['debt',\n",
       "  'collection',\n",
       "  'company',\n",
       "  'reaged',\n",
       "  'account',\n",
       "  'refuse',\n",
       "  'ive',\n",
       "  'informaion',\n",
       "  'account',\n",
       "  'original',\n",
       "  'credit',\n",
       "  'xxxx',\n",
       "  'already',\n",
       "  'remove',\n",
       "  '7',\n",
       "  'year',\n",
       "  'report',\n",
       "  'guideline'],\n",
       " ['debt',\n",
       "  'collection',\n",
       "  'work',\n",
       "  'xxxx',\n",
       "  'xxxx',\n",
       "  'provide',\n",
       "  'train',\n",
       "  'exchange',\n",
       "  'service',\n",
       "  'upon',\n",
       "  'obtain',\n",
       "  'cdl',\n",
       "  'attempt',\n",
       "  'work',\n",
       "  'debt',\n",
       "  'terminate',\n",
       "  'without',\n",
       "  'cause']]"
      ]
     },
     "execution_count": 102,
     "metadata": {},
     "output_type": "execute_result"
    }
   ],
   "source": [
    "# Create the list of list format of the custom corpus for gensim modeling\n",
    "word_sent = [list(filter(None, row.split(' '))) for row in df_prep['clean']]      \n",
    "    \n",
    "# show the example of list of list format of the custom corpus for gensim modeling\n",
    "word_sent[:2]"
   ]
  },
  {
   "cell_type": "markdown",
   "metadata": {},
   "source": [
    "### Task\n",
    "<b>1. estimate word embedding vector</b>"
   ]
  },
  {
   "cell_type": "code",
   "execution_count": 103,
   "metadata": {},
   "outputs": [],
   "source": [
    "model = Word2Vec(word_sent, min_count=20, vector_size=300, workers=5, window=5, sg=1, epochs=100)"
   ]
  },
  {
   "cell_type": "markdown",
   "metadata": {},
   "source": [
    "<b>2. Similar words</b>"
   ]
  },
  {
   "cell_type": "code",
   "execution_count": 141,
   "metadata": {},
   "outputs": [
    {
     "data": {
      "text/plain": [
       "[('collection', 0.5907238721847534),\n",
       " ('collector', 0.5441964864730835),\n",
       " ('creditor', 0.4232364594936371),\n",
       " ('agency', 0.4205735921859741),\n",
       " ('validation', 0.4144574701786041),\n",
       " ('owe', 0.41274285316467285),\n",
       " ('collect', 0.4015187621116638),\n",
       " ('allege', 0.38492923974990845),\n",
       " ('validate', 0.3623393177986145),\n",
       " ('judgment', 0.3617490530014038)]"
      ]
     },
     "execution_count": 141,
     "metadata": {},
     "output_type": "execute_result"
    }
   ],
   "source": [
    "debt = model.wv.most_similar('debt', topn=10)\n",
    "debt"
   ]
  },
  {
   "cell_type": "code",
   "execution_count": 142,
   "metadata": {},
   "outputs": [
    {
     "data": {
      "text/plain": [
       "[('debt', 0.5907238125801086),\n",
       " ('agency', 0.48693856596946716),\n",
       " ('collector', 0.4720112979412079),\n",
       " ('report', 0.43093541264533997),\n",
       " ('recovery', 0.3930669128894806),\n",
       " ('harass', 0.37964555621147156),\n",
       " ('validation', 0.37949371337890625),\n",
       " ('creditor', 0.37111836671829224),\n",
       " ('collect', 0.3696999251842499),\n",
       " ('owe', 0.3458119332790375)]"
      ]
     },
     "execution_count": 142,
     "metadata": {},
     "output_type": "execute_result"
    }
   ],
   "source": [
    "collection = model.wv.most_similar('collection', topn=10)\n",
    "collection"
   ]
  },
  {
   "cell_type": "code",
   "execution_count": 143,
   "metadata": {},
   "outputs": [
    {
     "data": {
      "text/plain": [
       "[('potentially', 0.3181648850440979),\n",
       " ('lead', 0.27651676535606384),\n",
       " ('safeguard', 0.2735995352268219),\n",
       " ('flag', 0.27344125509262085),\n",
       " ('loss', 0.27249422669410706),\n",
       " ('undue', 0.2721809148788452),\n",
       " ('asset', 0.25973737239837646),\n",
       " ('fraud', 0.25823846459388733),\n",
       " ('mean', 0.25725996494293213),\n",
       " ('alert', 0.2571893036365509)]"
      ]
     },
     "execution_count": 143,
     "metadata": {},
     "output_type": "execute_result"
    }
   ],
   "source": [
    "risk = model.wv.most_similar('risk', topn=10)\n",
    "risk"
   ]
  },
  {
   "cell_type": "markdown",
   "metadata": {},
   "source": [
    "<b>3. Plot the closest word</b>"
   ]
  },
  {
   "cell_type": "code",
   "execution_count": 170,
   "metadata": {},
   "outputs": [],
   "source": [
    "def plot_tsne(text, var):\n",
    "    words = [text] + [word[0] for word in var]\n",
    "\n",
    "    vectors = np.array([model.wv[w] for w in words])\n",
    "    tsne = TSNE(n_components=2, random_state=0, perplexity=5)\n",
    "    vectors_2d = tsne.fit_transform(vectors)\n",
    "\n",
    "    plt.figure(figsize=(6, 6))\n",
    "    plt.scatter(vectors_2d[0, 0], vectors_2d[0, 1], color='r')\n",
    "    plt.scatter(vectors_2d[1:, 0], vectors_2d[1:, 1])\n",
    "\n",
    "    for i, word in enumerate(words):\n",
    "        plt.annotate(word, xy=(vectors_2d[i, 0], vectors_2d[i, 1]))\n",
    "\n",
    "    plt.title(f\"t-SNE of {text}\")"
   ]
  },
  {
   "cell_type": "code",
   "execution_count": 171,
   "metadata": {},
   "outputs": [
    {
     "data": {
      "image/png": "[encoded data removed]",
      "text/plain": [
       "<Figure size 600x600 with 1 Axes>"
      ]
     },
     "metadata": {},
     "output_type": "display_data"
    }
   ],
   "source": [
    "plot_tsne('debt', debt)"
   ]
  },
  {
   "cell_type": "code",
   "execution_count": 172,
   "metadata": {},
   "outputs": [
    {
     "data": {
      "image/png": "[encoded data removed]",
      "text/plain": [
       "<Figure size 600x600 with 1 Axes>"
      ]
     },
     "metadata": {},
     "output_type": "display_data"
    }
   ],
   "source": [
    "plot_tsne('collection', collection)"
   ]
  },
  {
   "cell_type": "code",
   "execution_count": 173,
   "metadata": {},
   "outputs": [
    {
     "data": {
      "image/png": "[encoded data removed]",
      "text/plain": [
       "<Figure size 600x600 with 1 Axes>"
      ]
     },
     "metadata": {},
     "output_type": "display_data"
    }
   ],
   "source": [
    "plot_tsne('risk', risk)"
   ]
  },
  {
   "cell_type": "code",
   "execution_count": null,
   "metadata": {},
   "outputs": [],
   "source": []
  }
 ],
 "metadata": {
  "colab": {
   "provenance": []
  },
  "kernelspec": {
   "display_name": "Python 3",
   "language": "python",
   "name": "python3"
  },
  "language_info": {
   "codemirror_mode": {
    "name": "ipython",
    "version": 3
   },
   "file_extension": ".py",
   "mimetype": "text/x-python",
   "name": "python",
   "nbconvert_exporter": "python",
   "pygments_lexer": "ipython3",
   "version": "3.12.6"
  },
  "toc": {
   "base_numbering": 1,
   "nav_menu": {},
   "number_sections": true,
   "sideBar": true,
   "skip_h1_title": false,
   "title_cell": "Table of Contents",
   "title_sidebar": "Contents",
   "toc_cell": false,
   "toc_position": {},
   "toc_section_display": true,
   "toc_window_display": false
  }
 },
 "nbformat": 4,
 "nbformat_minor": 1
}
